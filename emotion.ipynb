{
 "cells": [
  {
   "cell_type": "markdown",
   "id": "9b2c4310",
   "metadata": {},
   "source": [
    "<h1>Emotion Task"
   ]
  },
  {
   "cell_type": "markdown",
   "id": "65b6bcae",
   "metadata": {},
   "source": [
    "<h3>Import Libraries"
   ]
  },
  {
   "cell_type": "code",
   "execution_count": 1,
   "id": "ae359a39",
   "metadata": {},
   "outputs": [
    {
     "name": "stderr",
     "output_type": "stream",
     "text": [
      "/home/sonerk/anaconda3/envs/nlp_env/lib/python3.11/site-packages/tqdm/auto.py:21: TqdmWarning: IProgress not found. Please update jupyter and ipywidgets. See https://ipywidgets.readthedocs.io/en/stable/user_install.html\n",
      "  from .autonotebook import tqdm as notebook_tqdm\n"
     ]
    },
    {
     "name": "stdout",
     "output_type": "stream",
     "text": [
      "3.11.5 (main, Sep 11 2023, 13:54:46) [GCC 11.2.0]\n"
     ]
    }
   ],
   "source": [
    "import pandas as pd\n",
    "import numpy as np\n",
    "import seaborn as sns\n",
    "import matplotlib.pyplot as plt\n",
    "import transformers\n",
    "import warnings\n",
    "import sys\n",
    "import torch\n",
    "import torch.nn.functional as F\n",
    "\n",
    "from torch import nn\n",
    "from sklearn.datasets import make_classification\n",
    "from sklearn.metrics import f1_score, accuracy_score\n",
    "from sklearn.utils.class_weight import compute_class_weight\n",
    "from datasets import load_dataset, Dataset #another way to read dataset\n",
    "from transformers import BertTokenizer, BertForSequenceClassification, AdamW\n",
    "from sklearn.utils.class_weight import compute_class_weight\n",
    "from torch.utils.data import DataLoader\n",
    "from sklearn.model_selection import ParameterGrid\n",
    "from tqdm import tqdm\n",
    "from datasets.utils.logging import disable_progress_bar\n",
    "\n",
    "print(sys.version)\n",
    "\n",
    "warnings.filterwarnings(\"ignore\")\n",
    "transformers.logging.set_verbosity_error()\n",
    "disable_progress_bar()"
   ]
  },
  {
   "cell_type": "markdown",
   "id": "648fd79c",
   "metadata": {},
   "source": [
    "<h3>Read Dataset"
   ]
  },
  {
   "cell_type": "code",
   "execution_count": 2,
   "id": "72d3329e",
   "metadata": {},
   "outputs": [],
   "source": [
    "#already split\n",
    "splits = {'train': 'split/train-00000-of-00001.parquet', 'validation': 'split/validation-00000-of-00001.parquet', 'test': 'split/test-00000-of-00001.parquet'}\n",
    "datasets = {k:pd.read_parquet(\"hf://datasets/dair-ai/emotion/\" + splits[k]) for k in splits}"
   ]
  },
  {
   "cell_type": "code",
   "execution_count": 3,
   "id": "b85c1c55",
   "metadata": {},
   "outputs": [
    {
     "data": {
      "text/html": [
       "<div>\n",
       "<style scoped>\n",
       "    .dataframe tbody tr th:only-of-type {\n",
       "        vertical-align: middle;\n",
       "    }\n",
       "\n",
       "    .dataframe tbody tr th {\n",
       "        vertical-align: top;\n",
       "    }\n",
       "\n",
       "    .dataframe thead th {\n",
       "        text-align: right;\n",
       "    }\n",
       "</style>\n",
       "<table border=\"1\" class=\"dataframe\">\n",
       "  <thead>\n",
       "    <tr style=\"text-align: right;\">\n",
       "      <th></th>\n",
       "      <th>text</th>\n",
       "      <th>label</th>\n",
       "    </tr>\n",
       "  </thead>\n",
       "  <tbody>\n",
       "    <tr>\n",
       "      <th>0</th>\n",
       "      <td>i didnt feel humiliated</td>\n",
       "      <td>0</td>\n",
       "    </tr>\n",
       "    <tr>\n",
       "      <th>1</th>\n",
       "      <td>i can go from feeling so hopeless to so damned...</td>\n",
       "      <td>0</td>\n",
       "    </tr>\n",
       "    <tr>\n",
       "      <th>2</th>\n",
       "      <td>im grabbing a minute to post i feel greedy wrong</td>\n",
       "      <td>3</td>\n",
       "    </tr>\n",
       "    <tr>\n",
       "      <th>3</th>\n",
       "      <td>i am ever feeling nostalgic about the fireplac...</td>\n",
       "      <td>2</td>\n",
       "    </tr>\n",
       "    <tr>\n",
       "      <th>4</th>\n",
       "      <td>i am feeling grouchy</td>\n",
       "      <td>3</td>\n",
       "    </tr>\n",
       "    <tr>\n",
       "      <th>...</th>\n",
       "      <td>...</td>\n",
       "      <td>...</td>\n",
       "    </tr>\n",
       "    <tr>\n",
       "      <th>15995</th>\n",
       "      <td>i just had a very brief time in the beanbag an...</td>\n",
       "      <td>0</td>\n",
       "    </tr>\n",
       "    <tr>\n",
       "      <th>15996</th>\n",
       "      <td>i am now turning and i feel pathetic that i am...</td>\n",
       "      <td>0</td>\n",
       "    </tr>\n",
       "    <tr>\n",
       "      <th>15997</th>\n",
       "      <td>i feel strong and good overall</td>\n",
       "      <td>1</td>\n",
       "    </tr>\n",
       "    <tr>\n",
       "      <th>15998</th>\n",
       "      <td>i feel like this was such a rude comment and i...</td>\n",
       "      <td>3</td>\n",
       "    </tr>\n",
       "    <tr>\n",
       "      <th>15999</th>\n",
       "      <td>i know a lot but i feel so stupid because i ca...</td>\n",
       "      <td>0</td>\n",
       "    </tr>\n",
       "  </tbody>\n",
       "</table>\n",
       "<p>16000 rows × 2 columns</p>\n",
       "</div>"
      ],
      "text/plain": [
       "                                                    text  label\n",
       "0                                i didnt feel humiliated      0\n",
       "1      i can go from feeling so hopeless to so damned...      0\n",
       "2       im grabbing a minute to post i feel greedy wrong      3\n",
       "3      i am ever feeling nostalgic about the fireplac...      2\n",
       "4                                   i am feeling grouchy      3\n",
       "...                                                  ...    ...\n",
       "15995  i just had a very brief time in the beanbag an...      0\n",
       "15996  i am now turning and i feel pathetic that i am...      0\n",
       "15997                     i feel strong and good overall      1\n",
       "15998  i feel like this was such a rude comment and i...      3\n",
       "15999  i know a lot but i feel so stupid because i ca...      0\n",
       "\n",
       "[16000 rows x 2 columns]"
      ]
     },
     "execution_count": 3,
     "metadata": {},
     "output_type": "execute_result"
    }
   ],
   "source": [
    "datasets[\"train\"]"
   ]
  },
  {
   "cell_type": "code",
   "execution_count": 4,
   "id": "42c427fd",
   "metadata": {},
   "outputs": [
    {
     "data": {
      "text/plain": [
       "6"
      ]
     },
     "execution_count": 4,
     "metadata": {},
     "output_type": "execute_result"
    }
   ],
   "source": [
    "len(datasets[\"train\"].label.unique())"
   ]
  },
  {
   "cell_type": "code",
   "execution_count": 5,
   "id": "39d2cccb",
   "metadata": {},
   "outputs": [
    {
     "data": {
      "image/png": "[encoded data removed]",
      "text/plain": [
       "<Figure size 800x600 with 1 Axes>"
      ]
     },
     "metadata": {},
     "output_type": "display_data"
    }
   ],
   "source": [
    "def plot_class_dist(df):\n",
    "    hist_data = df.label.value_counts().reset_index()\n",
    "\n",
    "\n",
    "    plt.figure(figsize=(8, 6))\n",
    "    barplot = sns.barplot(x='label', y='count', hue=\"label\", data=hist_data)\n",
    "\n",
    "    for index, row in hist_data.iterrows():\n",
    "        barplot.text(row.label, row['count'], round(row['count'], 2), color='black', ha=\"center\")\n",
    "\n",
    "    plt.title('Number of Sentences per Label')\n",
    "    plt.xlabel('Label')\n",
    "    plt.ylabel('Number of Sentences')\n",
    "    plt.show()\n",
    "    \n",
    "plot_class_dist(datasets[\"train\"])"
   ]
  },
  {
   "cell_type": "markdown",
   "id": "22765e27",
   "metadata": {},
   "source": [
    "<h3>Comments:"
   ]
  },
  {
   "cell_type": "markdown",
   "id": "96ce97f1",
   "metadata": {},
   "source": [
    "- Class 5 and class 2 are relatively less compared with the other classes, especially compared the class 0 and class 1. Class 1 and class 2 creates the majority of the dataset, hence, this can lead the bias towards to majority class and poor performance on the minority classes.\n",
    "- High accuracy won't be enough to calculate the performance of the model because of the imbalances, thus, F1 score can be used.\n",
    "- Oversampling can be useful to increase minority classes and solve the imbalance problem.\n",
    "- Class weights can be useful in loss calculations to focus more on minority classes also focal loss can be useful too."
   ]
  },
  {
   "cell_type": "markdown",
   "id": "c6679212",
   "metadata": {},
   "source": [
    "## Pre-processing"
   ]
  },
  {
   "cell_type": "code",
   "execution_count": 6,
   "id": "0ced8584-760a-46c1-87d1-e1c5b0524628",
   "metadata": {},
   "outputs": [
    {
     "name": "stderr",
     "output_type": "stream",
     "text": [
      "[nltk_data] Downloading package wordnet to /home/sonerk/nltk_data...\n",
      "[nltk_data]   Package wordnet is already up-to-date!\n",
      "[nltk_data] Downloading package stopwords to /home/sonerk/nltk_data...\n",
      "[nltk_data]   Package stopwords is already up-to-date!\n"
     ]
    },
    {
     "data": {
      "text/plain": [
       "True"
      ]
     },
     "execution_count": 6,
     "metadata": {},
     "output_type": "execute_result"
    }
   ],
   "source": [
    "from nltk.corpus import wordnet, stopwords\n",
    "import nltk\n",
    "import random\n",
    "nltk.download('wordnet')\n",
    "nltk.download('stopwords')"
   ]
  },
  {
   "cell_type": "code",
   "execution_count": 7,
   "id": "23bd3368-b582-4198-9647-8dd02f0eaad2",
   "metadata": {
    "scrolled": true
   },
   "outputs": [
    {
     "data": {
      "text/plain": [
       "{'a',\n",
       " 'about',\n",
       " 'above',\n",
       " 'after',\n",
       " 'again',\n",
       " 'against',\n",
       " 'ain',\n",
       " 'all',\n",
       " 'am',\n",
       " 'an',\n",
       " 'and',\n",
       " 'any',\n",
       " 'are',\n",
       " 'aren',\n",
       " \"aren't\",\n",
       " 'as',\n",
       " 'at',\n",
       " 'be',\n",
       " 'because',\n",
       " 'been',\n",
       " 'before',\n",
       " 'being',\n",
       " 'below',\n",
       " 'between',\n",
       " 'both',\n",
       " 'but',\n",
       " 'by',\n",
       " 'can',\n",
       " 'couldn',\n",
       " \"couldn't\",\n",
       " 'd',\n",
       " 'did',\n",
       " 'didn',\n",
       " \"didn't\",\n",
       " 'do',\n",
       " 'does',\n",
       " 'doesn',\n",
       " \"doesn't\",\n",
       " 'doing',\n",
       " 'don',\n",
       " \"don't\",\n",
       " 'down',\n",
       " 'during',\n",
       " 'each',\n",
       " 'few',\n",
       " 'for',\n",
       " 'from',\n",
       " 'further',\n",
       " 'had',\n",
       " 'hadn',\n",
       " \"hadn't\",\n",
       " 'has',\n",
       " 'hasn',\n",
       " \"hasn't\",\n",
       " 'have',\n",
       " 'haven',\n",
       " \"haven't\",\n",
       " 'having',\n",
       " 'he',\n",
       " 'her',\n",
       " 'here',\n",
       " 'hers',\n",
       " 'herself',\n",
       " 'him',\n",
       " 'himself',\n",
       " 'his',\n",
       " 'how',\n",
       " 'i',\n",
       " 'if',\n",
       " 'in',\n",
       " 'into',\n",
       " 'is',\n",
       " 'isn',\n",
       " \"isn't\",\n",
       " 'it',\n",
       " \"it's\",\n",
       " 'its',\n",
       " 'itself',\n",
       " 'just',\n",
       " 'll',\n",
       " 'm',\n",
       " 'ma',\n",
       " 'me',\n",
       " 'mightn',\n",
       " \"mightn't\",\n",
       " 'more',\n",
       " 'most',\n",
       " 'mustn',\n",
       " \"mustn't\",\n",
       " 'my',\n",
       " 'myself',\n",
       " 'needn',\n",
       " \"needn't\",\n",
       " 'no',\n",
       " 'nor',\n",
       " 'not',\n",
       " 'now',\n",
       " 'o',\n",
       " 'of',\n",
       " 'off',\n",
       " 'on',\n",
       " 'once',\n",
       " 'only',\n",
       " 'or',\n",
       " 'other',\n",
       " 'our',\n",
       " 'ours',\n",
       " 'ourselves',\n",
       " 'out',\n",
       " 'over',\n",
       " 'own',\n",
       " 're',\n",
       " 's',\n",
       " 'same',\n",
       " 'shan',\n",
       " \"shan't\",\n",
       " 'she',\n",
       " \"she's\",\n",
       " 'should',\n",
       " \"should've\",\n",
       " 'shouldn',\n",
       " \"shouldn't\",\n",
       " 'so',\n",
       " 'some',\n",
       " 'such',\n",
       " 't',\n",
       " 'than',\n",
       " 'that',\n",
       " \"that'll\",\n",
       " 'the',\n",
       " 'their',\n",
       " 'theirs',\n",
       " 'them',\n",
       " 'themselves',\n",
       " 'then',\n",
       " 'there',\n",
       " 'these',\n",
       " 'they',\n",
       " 'this',\n",
       " 'those',\n",
       " 'through',\n",
       " 'to',\n",
       " 'too',\n",
       " 'under',\n",
       " 'until',\n",
       " 'up',\n",
       " 've',\n",
       " 'very',\n",
       " 'was',\n",
       " 'wasn',\n",
       " \"wasn't\",\n",
       " 'we',\n",
       " 'were',\n",
       " 'weren',\n",
       " \"weren't\",\n",
       " 'what',\n",
       " 'when',\n",
       " 'where',\n",
       " 'which',\n",
       " 'while',\n",
       " 'who',\n",
       " 'whom',\n",
       " 'why',\n",
       " 'will',\n",
       " 'with',\n",
       " 'won',\n",
       " \"won't\",\n",
       " 'wouldn',\n",
       " \"wouldn't\",\n",
       " 'y',\n",
       " 'you',\n",
       " \"you'd\",\n",
       " \"you'll\",\n",
       " \"you're\",\n",
       " \"you've\",\n",
       " 'your',\n",
       " 'yours',\n",
       " 'yourself',\n",
       " 'yourselves'}"
      ]
     },
     "execution_count": 7,
     "metadata": {},
     "output_type": "execute_result"
    }
   ],
   "source": [
    "stop_words = set(stopwords.words('english'))\n",
    "stop_words"
   ]
  },
  {
   "cell_type": "code",
   "execution_count": 8,
   "id": "43546706-f70b-42a3-a638-02a5bc2b6553",
   "metadata": {},
   "outputs": [],
   "source": [
    "def random_synonym_replacement(sentence, n=2):\n",
    "    words = sentence.split()\n",
    "    new_sentence = words.copy()\n",
    "    word_indices = [i for i, word in enumerate(words) if wordnet.synsets(word)]\n",
    "    random.shuffle(word_indices)\n",
    "    num_replacements = min(n, len(word_indices))\n",
    "    for idx in word_indices[:num_replacements]:\n",
    "        synonyms = wordnet.synsets(words[idx])\n",
    "        if synonyms:\n",
    "            synonym = synonyms[0].lemmas()[0].name()\n",
    "            new_sentence[idx] = synonym\n",
    "    return ' '.join(new_sentence)\n",
    "\n",
    "def random_insertion(sentence, n=2):\n",
    "    words = sentence.split()\n",
    "    for _ in range(n):\n",
    "        new_word = random.choice(words)\n",
    "        synonyms = wordnet.synsets(new_word)\n",
    "        if synonyms:\n",
    "            synonym = synonyms[0].lemmas()[0].name()\n",
    "            random_idx = random.randint(0, len(words))\n",
    "            words.insert(random_idx, synonym)\n",
    "    return ' '.join(words)\n",
    "\n",
    "def augment_classes(df, class_list, method):\n",
    "    rows = df[df.label.isin(class_list)].copy()\n",
    "    for index, row in rows.iterrows():\n",
    "        augmented = method(row[\"text\"])\n",
    "        df.loc[len(df)] = [augmented, row[\"label\"]]"
   ]
  },
  {
   "cell_type": "code",
   "execution_count": 9,
   "id": "46edda03-fd8e-463a-882b-7bfb09f16de1",
   "metadata": {},
   "outputs": [
    {
     "data": {
      "image/png": "[encoded data removed]",
      "text/plain": [
       "<Figure size 800x600 with 1 Axes>"
      ]
     },
     "metadata": {},
     "output_type": "display_data"
    }
   ],
   "source": [
    "df = datasets[\"train\"].copy()\n",
    "class_list = [2, 3, 4, 5]\n",
    "\n",
    "augment_classes(df, class_list, random_synonym_replacement)\n",
    "augment_classes(df, [5], random_insertion)\n",
    "\n",
    "plot_class_dist(df)"
   ]
  },
  {
   "cell_type": "code",
   "execution_count": 10,
   "id": "5d8aac83",
   "metadata": {},
   "outputs": [],
   "source": [
    "def remove_stopwords(text):\n",
    "    return \" \".join([word for word in text.split() if word.lower() not in stop_words])\n",
    "\n",
    "def preprocessing(texts, remove_sws=True, balance=True):\n",
    "    processed = texts.copy()\n",
    "    processed = processed.str.lower().replace(r'[^\\w\\s]', '', regex=True)\n",
    "\n",
    "    if remove_sws:\n",
    "        processed = processed.apply(remove_stopwords)\n",
    "    \n",
    "    return processed"
   ]
  },
  {
   "cell_type": "code",
   "execution_count": 11,
   "id": "121bff4c-29cb-4c4c-b21c-9be0dbd21487",
   "metadata": {},
   "outputs": [],
   "source": [
    "class_list = [2, 3, 4, 5]\n",
    "augment_classes(datasets[\"train\"], class_list, random_synonym_replacement)\n",
    "augment_classes(datasets[\"train\"], [5], random_insertion)"
   ]
  },
  {
   "cell_type": "code",
   "execution_count": 12,
   "id": "c15edbf9",
   "metadata": {},
   "outputs": [],
   "source": [
    "datasets[\"train\"].text = preprocessing(datasets[\"train\"].text)\n",
    "datasets[\"validation\"].text = preprocessing(datasets[\"validation\"].text)\n",
    "datasets[\"test\"].text = preprocessing(datasets[\"test\"].text)"
   ]
  },
  {
   "cell_type": "code",
   "execution_count": 13,
   "id": "ad03ece0",
   "metadata": {},
   "outputs": [
    {
     "data": {
      "image/png": "[encoded data removed]",
      "text/plain": [
       "<Figure size 800x600 with 1 Axes>"
      ]
     },
     "metadata": {},
     "output_type": "display_data"
    }
   ],
   "source": [
    "plot_class_dist(datasets[\"train\"])"
   ]
  },
  {
   "cell_type": "code",
   "execution_count": 14,
   "id": "afa15b3d-1533-44b3-81a0-4cbbe6b3c023",
   "metadata": {},
   "outputs": [
    {
     "data": {
      "text/html": [
       "<div>\n",
       "<style scoped>\n",
       "    .dataframe tbody tr th:only-of-type {\n",
       "        vertical-align: middle;\n",
       "    }\n",
       "\n",
       "    .dataframe tbody tr th {\n",
       "        vertical-align: top;\n",
       "    }\n",
       "\n",
       "    .dataframe thead th {\n",
       "        text-align: right;\n",
       "    }\n",
       "</style>\n",
       "<table border=\"1\" class=\"dataframe\">\n",
       "  <thead>\n",
       "    <tr style=\"text-align: right;\">\n",
       "      <th></th>\n",
       "      <th>text</th>\n",
       "      <th>label</th>\n",
       "    </tr>\n",
       "  </thead>\n",
       "  <tbody>\n",
       "    <tr>\n",
       "      <th>0</th>\n",
       "      <td>didnt feel humiliated</td>\n",
       "      <td>0</td>\n",
       "    </tr>\n",
       "    <tr>\n",
       "      <th>1</th>\n",
       "      <td>go feeling hopeless damned hopeful around some...</td>\n",
       "      <td>0</td>\n",
       "    </tr>\n",
       "    <tr>\n",
       "      <th>2</th>\n",
       "      <td>im grabbing minute post feel greedy wrong</td>\n",
       "      <td>3</td>\n",
       "    </tr>\n",
       "    <tr>\n",
       "      <th>3</th>\n",
       "      <td>ever feeling nostalgic fireplace know still pr...</td>\n",
       "      <td>2</td>\n",
       "    </tr>\n",
       "    <tr>\n",
       "      <th>4</th>\n",
       "      <td>feeling grouchy</td>\n",
       "      <td>3</td>\n",
       "    </tr>\n",
       "    <tr>\n",
       "      <th>...</th>\n",
       "      <td>...</td>\n",
       "      <td>...</td>\n",
       "    </tr>\n",
       "    <tr>\n",
       "      <th>23111</th>\n",
       "      <td>spend idea washington lot time feeling spot st...</td>\n",
       "      <td>5</td>\n",
       "    </tr>\n",
       "    <tr>\n",
       "      <th>23112</th>\n",
       "      <td>iodine believe iodine person readers feel impr...</td>\n",
       "      <td>5</td>\n",
       "    </tr>\n",
       "    <tr>\n",
       "      <th>23113</th>\n",
       "      <td>iodine admit admit im iodine feeling pretty ov...</td>\n",
       "      <td>5</td>\n",
       "    </tr>\n",
       "    <tr>\n",
       "      <th>23114</th>\n",
       "      <td>feeling much like guy pic little overwhelm sta...</td>\n",
       "      <td>5</td>\n",
       "    </tr>\n",
       "    <tr>\n",
       "      <th>23115</th>\n",
       "      <td>need college date past four years ive always f...</td>\n",
       "      <td>5</td>\n",
       "    </tr>\n",
       "  </tbody>\n",
       "</table>\n",
       "<p>23116 rows × 2 columns</p>\n",
       "</div>"
      ],
      "text/plain": [
       "                                                    text  label\n",
       "0                                  didnt feel humiliated      0\n",
       "1      go feeling hopeless damned hopeful around some...      0\n",
       "2              im grabbing minute post feel greedy wrong      3\n",
       "3      ever feeling nostalgic fireplace know still pr...      2\n",
       "4                                        feeling grouchy      3\n",
       "...                                                  ...    ...\n",
       "23111  spend idea washington lot time feeling spot st...      5\n",
       "23112  iodine believe iodine person readers feel impr...      5\n",
       "23113  iodine admit admit im iodine feeling pretty ov...      5\n",
       "23114  feeling much like guy pic little overwhelm sta...      5\n",
       "23115  need college date past four years ive always f...      5\n",
       "\n",
       "[23116 rows x 2 columns]"
      ]
     },
     "execution_count": 14,
     "metadata": {},
     "output_type": "execute_result"
    }
   ],
   "source": [
    "datasets[\"train\"]"
   ]
  },
  {
   "cell_type": "code",
   "execution_count": 15,
   "id": "4af9b0f8",
   "metadata": {},
   "outputs": [
    {
     "data": {
      "text/plain": [
       "array([0.82568938, 0.71851299, 1.47724949, 0.89223406, 0.9944932 ,\n",
       "       1.68385781])"
      ]
     },
     "execution_count": 15,
     "metadata": {},
     "output_type": "execute_result"
    }
   ],
   "source": [
    "labels = datasets[\"train\"].label.to_numpy()\n",
    "compute_class_weight(class_weight='balanced', classes=np.unique(labels), y=labels)"
   ]
  },
  {
   "cell_type": "code",
   "execution_count": 16,
   "id": "c555f292-634e-4591-98d4-225279b8b1a2",
   "metadata": {},
   "outputs": [],
   "source": [
    "def get_class_weights(labels):\n",
    "    return compute_class_weight(class_weight='balanced', classes=np.unique(labels), y=labels)"
   ]
  },
  {
   "cell_type": "markdown",
   "id": "89f45182-9b93-4ec8-aa9f-c92c072e6ae2",
   "metadata": {},
   "source": [
    "## Hyperparameter tuning"
   ]
  },
  {
   "cell_type": "code",
   "execution_count": 17,
   "id": "5e828ad2-2f0e-4e75-b8fa-010ffb941bea",
   "metadata": {},
   "outputs": [
    {
     "data": {
      "text/plain": [
       "True"
      ]
     },
     "execution_count": 17,
     "metadata": {},
     "output_type": "execute_result"
    }
   ],
   "source": [
    "torch.cuda.is_available()"
   ]
  },
  {
   "cell_type": "code",
   "execution_count": 18,
   "id": "5cd6e629",
   "metadata": {},
   "outputs": [],
   "source": [
    "def tokenize(tokenizer, batch):\n",
    "    return tokenizer(batch['text'], padding=\"max_length\", truncation=True, max_length=128)\n",
    "\n",
    "def convert_to_torch_dataset(df, tokenizer):\n",
    "    dataset = Dataset.from_pandas(df)\n",
    "    dataset = dataset.map(lambda batch: tokenize(tokenizer, batch), batched=True)\n",
    "    dataset.set_format(type='torch', columns=['input_ids', 'attention_mask', 'label'])\n",
    "    \n",
    "    return dataset"
   ]
  },
  {
   "cell_type": "code",
   "execution_count": 19,
   "id": "1948cf73-b8f0-4a72-bfa7-05493c64e4f2",
   "metadata": {},
   "outputs": [],
   "source": [
    "train_small_size = 500\n",
    "val_small_size = 100\n",
    "seed = 42\n",
    "\n",
    "dataset_train_small = datasets[\"train\"].sample(n=train_small_size, random_state = seed)\n",
    "dataset_val_small = datasets[\"validation\"].sample(n=val_small_size, random_state = seed)"
   ]
  },
  {
   "cell_type": "code",
   "execution_count": 20,
   "id": "e451faeb-b5df-4c29-b407-237d43df2511",
   "metadata": {},
   "outputs": [
    {
     "data": {
      "image/png": "[encoded data removed]",
      "text/plain": [
       "<Figure size 800x600 with 1 Axes>"
      ]
     },
     "metadata": {},
     "output_type": "display_data"
    }
   ],
   "source": [
    "plot_class_dist(dataset_train_small)"
   ]
  },
  {
   "cell_type": "code",
   "execution_count": 21,
   "id": "8690820a",
   "metadata": {},
   "outputs": [
    {
     "data": {
      "text/plain": [
       "array([0.82568938, 0.71851299, 1.47724949, 0.89223406, 0.9944932 ,\n",
       "       1.68385781])"
      ]
     },
     "execution_count": 21,
     "metadata": {},
     "output_type": "execute_result"
    }
   ],
   "source": [
    "class_weights = get_class_weights(datasets[\"train\"].label.to_numpy())\n",
    "class_weights"
   ]
  },
  {
   "cell_type": "code",
   "execution_count": 22,
   "id": "2809d956-f3e0-4591-bad1-b738ee303544",
   "metadata": {},
   "outputs": [],
   "source": [
    "def focal_loss(p, gamma=2, alpha=1.0):\n",
    "    return -alpha * (1 - p)**gamma * torch.log(p)\n",
    "\n",
    "class FocalLoss(nn.Module):\n",
    "    def __init__(self, alpha=1, gamma=2, reduction='mean', weight=None):\n",
    "        \"\"\"\n",
    "        alpha: Weighting factor in range (0,1) for balancing classes (set to None for no class balance).\n",
    "        gamma: Focusing parameter for modulating factor (1-p).\n",
    "        reduction: Specifies the reduction to apply to the output: 'none' | 'mean' | 'sum'.\n",
    "        \"\"\"\n",
    "        super(FocalLoss, self).__init__()\n",
    "        self.alpha = alpha\n",
    "        self.gamma = gamma\n",
    "        self.reduction = reduction\n",
    "        self.weight = weight\n",
    "\n",
    "    def forward(self, inputs, targets):\n",
    "        # Compute cross entropy loss\n",
    "        CE_loss = F.cross_entropy(inputs, targets, reduction='none', weight=self.weight)\n",
    "        # Compute the softmax probabilities\n",
    "        pt = torch.exp(-CE_loss)\n",
    "        # Compute focal loss\n",
    "        F_loss = focal_loss(pt, gamma=self.gamma, alpha=self.alpha)\n",
    "\n",
    "        if self.reduction == 'mean':\n",
    "            return torch.mean(F_loss)\n",
    "        elif self.reduction == 'sum':\n",
    "            return torch.sum(F_loss)\n",
    "        else:\n",
    "            return F_loss"
   ]
  },
  {
   "cell_type": "code",
   "execution_count": 23,
   "id": "35ac4451-c815-4fc6-8b3a-6bd0eea2eee6",
   "metadata": {},
   "outputs": [
    {
     "data": {
      "image/png": "[encoded data removed]",
      "text/plain": [
       "<Figure size 800x600 with 1 Axes>"
      ]
     },
     "metadata": {},
     "output_type": "display_data"
    }
   ],
   "source": [
    "p = np.linspace(0.01, 0.99, 100)\n",
    "\n",
    "gamma_values = [0, 0.5, 1, 2, 5]\n",
    "plt.figure(figsize=(8, 6))\n",
    "\n",
    "for gamma in gamma_values:\n",
    "    loss = focal_loss(torch.from_numpy(p), gamma=gamma)\n",
    "    plt.plot(p, loss.numpy(), label=f\"gamma = {gamma}\")\n",
    "\n",
    "plt.title(\"Focal Loss with Different Gamma Values\")\n",
    "plt.xlabel(\"Predicted Probability for True Class (p)\")\n",
    "plt.ylabel(\"Focal Loss\")\n",
    "plt.legend()\n",
    "plt.grid(True)\n",
    "plt.show()"
   ]
  },
  {
   "cell_type": "code",
   "execution_count": 24,
   "id": "122411d9-3f7c-442e-b25d-3e008d4d6c09",
   "metadata": {},
   "outputs": [],
   "source": [
    "def train_and_eval(train_df, val_df, params, epochs=5):\n",
    "    epochs = epochs\n",
    "    device = torch.device('cuda') if torch.cuda.is_available() else torch.device('cpu')\n",
    "\n",
    "    tokenizer = BertTokenizer.from_pretrained(params[\"model_type\"])\n",
    "    model = BertForSequenceClassification.from_pretrained(params[\"model_type\"], num_labels=6)\n",
    "    \n",
    "    train_dataset = convert_to_torch_dataset(train_df, tokenizer)\n",
    "    val_dataset = convert_to_torch_dataset(val_df, tokenizer)\n",
    "\n",
    "    train_loader = DataLoader(train_dataset, batch_size=params[\"batch_size\"], shuffle=True)\n",
    "    val_loader = DataLoader(val_dataset, batch_size=params[\"batch_size\"])\n",
    "    \n",
    "    optimizer = torch.optim.AdamW(\n",
    "        model.parameters(), \n",
    "        lr=params[\"learning_rate\"], \n",
    "        weight_decay=params.get(\"weight_decay\", 0.0)\n",
    "    )\n",
    "    \n",
    "    loss_fn = None\n",
    "    weights = torch.from_numpy(class_weights).to(torch.float32).to(device)\n",
    "    if params.get(\"weighted\", False):\n",
    "        #loss_fn = torch.nn.CrossEntropyLoss(weight = weights)\n",
    "        loss_fn = FocalLoss(\n",
    "            gamma=params.get(\"gamma\", 2.0),\n",
    "            alpha=params.get(\"alpha\", 1.0),\n",
    "            weight=weights\n",
    "        )\n",
    "    else:\n",
    "        loss_fn = FocalLoss(\n",
    "            gamma=params.get(\"gamma\", 2.0),\n",
    "            alpha=params.get(\"alpha\", 1.0),\n",
    "        )\n",
    "    \n",
    "    model.to(device)\n",
    "    \n",
    "    print(f\"For parameters {params}:\")\n",
    "    for epoch in range(epochs):\n",
    "        model.train()\n",
    "        total_loss = 0\n",
    "\n",
    "        # Training phase\n",
    "        for batch in train_loader:\n",
    "            optimizer.zero_grad()\n",
    "\n",
    "            input_ids = batch['input_ids'].to(device)\n",
    "            attention_mask = batch['attention_mask'].to(device)\n",
    "            labels = batch['label'].to(device)\n",
    "\n",
    "            outputs = model(input_ids, attention_mask=attention_mask, labels=labels)\n",
    "            logits = outputs.logits\n",
    "            \n",
    "            loss = loss_fn(logits, labels.long())\n",
    "            \n",
    "            total_loss += loss.item()\n",
    "\n",
    "            loss.backward()\n",
    "            optimizer.step()\n",
    "        \n",
    "        avg_train_loss = total_loss / len(train_loader)\n",
    "        print(f'Epoch {epoch+1}, Train Loss: {avg_train_loss}')\n",
    "            \n",
    "    model.eval()\n",
    "    predictions, true_labels = [], []\n",
    "    \n",
    "    with torch.no_grad():\n",
    "        for batch in val_loader:\n",
    "            input_ids = batch['input_ids'].to(device)\n",
    "            attention_mask = batch['attention_mask'].to(device)\n",
    "            labels = batch['label'].to(device)\n",
    "\n",
    "            outputs = model(input_ids, attention_mask=attention_mask)\n",
    "            logits = outputs.logits\n",
    "            preds = torch.argmax(logits, dim=-1).cpu().numpy()\n",
    "            label_ids = labels.cpu().numpy()\n",
    "\n",
    "            predictions.extend(preds)\n",
    "            true_labels.extend(label_ids)\n",
    "\n",
    "    score = f1_score(true_labels, predictions, average=\"micro\")\n",
    "    print(f'Validation f1_score: {score}')\n",
    "    \n",
    "    return score\n",
    "    \n",
    "    \n",
    "def get_best_params(train_df, val_df, params_grid, epochs=5):\n",
    "    best_score = -float(\"inf\")\n",
    "    best_params = dict()\n",
    "    for params in params_grid:\n",
    "        score = train_and_eval(dataset_train_small, dataset_val_small, params, epochs=epochs)\n",
    "        if score > best_score:\n",
    "            best_score = score\n",
    "            best_params = params\n",
    "    \n",
    "    return best_score, best_params"
   ]
  },
  {
   "cell_type": "code",
   "execution_count": 32,
   "id": "346a1616-a039-435e-b0d6-6ccb9dd87af2",
   "metadata": {
    "collapsed": true,
    "jupyter": {
     "outputs_hidden": true
    },
    "scrolled": true
   },
   "outputs": [
    {
     "name": "stdout",
     "output_type": "stream",
     "text": [
      "For parameters {'batch_size': 32, 'gamma': 0, 'learning_rate': 0.0001, 'model_type': 'bert-base-uncased'}:\n",
      "Epoch 1, Train Loss: 1.74453753978014\n",
      "Epoch 2, Train Loss: 1.3280097246170044\n",
      "Epoch 3, Train Loss: 0.7574508115649223\n",
      "Epoch 4, Train Loss: 0.3362917806953192\n",
      "Epoch 5, Train Loss: 0.14946074387989938\n",
      "Validation f1_score: 0.76\n",
      "For parameters {'batch_size': 32, 'gamma': 0, 'learning_rate': 0.001, 'model_type': 'bert-base-uncased'}:\n",
      "Epoch 1, Train Loss: 1.9379287213087082\n",
      "Epoch 2, Train Loss: 1.7743297889828682\n",
      "Epoch 3, Train Loss: 1.7975810766220093\n",
      "Epoch 4, Train Loss: 1.7900733947753906\n",
      "Epoch 5, Train Loss: 1.747616246342659\n",
      "Validation f1_score: 0.27\n",
      "For parameters {'batch_size': 32, 'gamma': 1.0, 'learning_rate': 0.0001, 'model_type': 'bert-base-uncased'}:\n",
      "Epoch 1, Train Loss: 1.4509521648287773\n",
      "Epoch 2, Train Loss: 1.1251347474753857\n",
      "Epoch 3, Train Loss: 0.5479110591113567\n",
      "Epoch 4, Train Loss: 0.22603765642270446\n",
      "Epoch 5, Train Loss: 0.09776769881136715\n",
      "Validation f1_score: 0.75\n",
      "For parameters {'batch_size': 32, 'gamma': 1.0, 'learning_rate': 0.001, 'model_type': 'bert-base-uncased'}:\n",
      "Epoch 1, Train Loss: 1.6147040650248528\n",
      "Epoch 2, Train Loss: 1.5211696699261665\n",
      "Epoch 3, Train Loss: 1.5025647729635239\n",
      "Epoch 4, Train Loss: 1.5308480188250542\n",
      "Epoch 5, Train Loss: 1.5016587600111961\n",
      "Validation f1_score: 0.27\n",
      "For parameters {'batch_size': 32, 'gamma': 2.0, 'learning_rate': 0.0001, 'model_type': 'bert-base-uncased'}:\n",
      "Epoch 1, Train Loss: 1.2179080247879028\n",
      "Epoch 2, Train Loss: 0.8846545293927193\n",
      "Epoch 3, Train Loss: 0.3943036310374737\n",
      "Epoch 4, Train Loss: 0.22423583827912807\n",
      "Epoch 5, Train Loss: 0.09251312131527811\n",
      "Validation f1_score: 0.7\n",
      "For parameters {'batch_size': 32, 'gamma': 2.0, 'learning_rate': 0.001, 'model_type': 'bert-base-uncased'}:\n",
      "Epoch 1, Train Loss: 1.3865793198347092\n",
      "Epoch 2, Train Loss: 1.2600141763687134\n",
      "Epoch 3, Train Loss: 1.2262172549962997\n",
      "Epoch 4, Train Loss: 1.2115918323397636\n",
      "Epoch 5, Train Loss: 1.21328154951334\n",
      "Validation f1_score: 0.31\n",
      "For parameters {'batch_size': 32, 'gamma': 4.0, 'learning_rate': 0.0001, 'model_type': 'bert-base-uncased'}:\n",
      "Epoch 1, Train Loss: 0.8952865861356258\n",
      "Epoch 2, Train Loss: 0.8208341300487518\n",
      "Epoch 3, Train Loss: 0.8115650191903114\n",
      "Epoch 4, Train Loss: 0.7317107021808624\n",
      "Epoch 5, Train Loss: 0.3388688862323761\n",
      "Validation f1_score: 0.66\n",
      "For parameters {'batch_size': 32, 'gamma': 4.0, 'learning_rate': 0.001, 'model_type': 'bert-base-uncased'}:\n",
      "Epoch 1, Train Loss: 1.0663864724338055\n",
      "Epoch 2, Train Loss: 0.9235202297568321\n",
      "Epoch 3, Train Loss: 0.8768602013587952\n",
      "Epoch 4, Train Loss: 0.8758591525256634\n",
      "Epoch 5, Train Loss: 0.8538349717855453\n",
      "Validation f1_score: 0.1\n",
      "For parameters {'batch_size': 64, 'gamma': 0, 'learning_rate': 0.0001, 'model_type': 'bert-base-uncased'}:\n",
      "Epoch 1, Train Loss: 1.7742428630590439\n",
      "Epoch 2, Train Loss: 1.6976204067468643\n",
      "Epoch 3, Train Loss: 1.434907853603363\n",
      "Epoch 4, Train Loss: 0.8662852942943573\n",
      "Epoch 5, Train Loss: 0.4232790805399418\n",
      "Validation f1_score: 0.78\n",
      "For parameters {'batch_size': 64, 'gamma': 0, 'learning_rate': 0.001, 'model_type': 'bert-base-uncased'}:\n",
      "Epoch 1, Train Loss: 1.8929450511932373\n",
      "Epoch 2, Train Loss: 1.7901249527931213\n",
      "Epoch 3, Train Loss: 1.7701780945062637\n",
      "Epoch 4, Train Loss: 1.7795801013708115\n",
      "Epoch 5, Train Loss: 1.7518364936113358\n",
      "Validation f1_score: 0.15\n",
      "For parameters {'batch_size': 64, 'gamma': 1.0, 'learning_rate': 0.0001, 'model_type': 'bert-base-uncased'}:\n",
      "Epoch 1, Train Loss: 1.446614682674408\n",
      "Epoch 2, Train Loss: 1.3399928212165833\n",
      "Epoch 3, Train Loss: 0.9430181309580803\n",
      "Epoch 4, Train Loss: 0.4748585522174835\n",
      "Epoch 5, Train Loss: 0.2291282843798399\n",
      "Validation f1_score: 0.67\n",
      "For parameters {'batch_size': 64, 'gamma': 1.0, 'learning_rate': 0.001, 'model_type': 'bert-base-uncased'}:\n",
      "Epoch 1, Train Loss: 1.5998133271932602\n",
      "Epoch 2, Train Loss: 1.7058868110179901\n",
      "Epoch 3, Train Loss: 1.50265671312809\n",
      "Epoch 4, Train Loss: 1.4838964641094208\n",
      "Epoch 5, Train Loss: 1.478581354022026\n",
      "Validation f1_score: 0.15\n",
      "For parameters {'batch_size': 64, 'gamma': 2.0, 'learning_rate': 0.0001, 'model_type': 'bert-base-uncased'}:\n",
      "Epoch 1, Train Loss: 1.206821784377098\n",
      "Epoch 2, Train Loss: 0.9219973608851433\n",
      "Epoch 3, Train Loss: 0.5383046269416809\n",
      "Epoch 4, Train Loss: 0.2637024261057377\n",
      "Epoch 5, Train Loss: 0.12351460102945566\n",
      "Validation f1_score: 0.74\n",
      "For parameters {'batch_size': 64, 'gamma': 2.0, 'learning_rate': 0.001, 'model_type': 'bert-base-uncased'}:\n",
      "Epoch 1, Train Loss: 1.445569947361946\n",
      "Epoch 2, Train Loss: 1.2961623817682266\n",
      "Epoch 3, Train Loss: 1.2297969311475754\n",
      "Epoch 4, Train Loss: 1.2246765047311783\n",
      "Epoch 5, Train Loss: 1.2102435529232025\n",
      "Validation f1_score: 0.31\n",
      "For parameters {'batch_size': 64, 'gamma': 4.0, 'learning_rate': 0.0001, 'model_type': 'bert-base-uncased'}:\n",
      "Epoch 1, Train Loss: 0.8405651971697807\n",
      "Epoch 2, Train Loss: 0.6453053429722786\n",
      "Epoch 3, Train Loss: 0.38791024312376976\n",
      "Epoch 4, Train Loss: 0.15103736892342567\n",
      "Epoch 5, Train Loss: 0.058981187641620636\n",
      "Validation f1_score: 0.7\n",
      "For parameters {'batch_size': 64, 'gamma': 4.0, 'learning_rate': 0.001, 'model_type': 'bert-base-uncased'}:\n",
      "Epoch 1, Train Loss: 0.9270392209291458\n",
      "Epoch 2, Train Loss: 0.869136393070221\n",
      "Epoch 3, Train Loss: 0.8749711066484451\n",
      "Epoch 4, Train Loss: 0.8522053137421608\n",
      "Epoch 5, Train Loss: 0.8372701704502106\n",
      "Validation f1_score: 0.31\n",
      "For parameters {'batch_size': 128, 'gamma': 0, 'learning_rate': 0.0001, 'model_type': 'bert-base-uncased'}:\n",
      "Epoch 1, Train Loss: 1.7885558307170868\n",
      "Epoch 2, Train Loss: 1.716588944196701\n",
      "Epoch 3, Train Loss: 1.6524482667446136\n",
      "Epoch 4, Train Loss: 1.5096446573734283\n",
      "Epoch 5, Train Loss: 1.3991755247116089\n",
      "Validation f1_score: 0.56\n",
      "For parameters {'batch_size': 128, 'gamma': 0, 'learning_rate': 0.001, 'model_type': 'bert-base-uncased'}:\n",
      "Epoch 1, Train Loss: 1.8218853175640106\n",
      "Epoch 2, Train Loss: 1.9380799531936646\n",
      "Epoch 3, Train Loss: 1.7657024264335632\n",
      "Epoch 4, Train Loss: 1.7652643322944641\n",
      "Epoch 5, Train Loss: 1.7880780696868896\n",
      "Validation f1_score: 0.27\n",
      "For parameters {'batch_size': 128, 'gamma': 1.0, 'learning_rate': 0.0001, 'model_type': 'bert-base-uncased'}:\n",
      "Epoch 1, Train Loss: 1.4742508232593536\n",
      "Epoch 2, Train Loss: 1.4184777736663818\n",
      "Epoch 3, Train Loss: 1.3190352320671082\n",
      "Epoch 4, Train Loss: 1.1111511290073395\n",
      "Epoch 5, Train Loss: 0.818577229976654\n",
      "Validation f1_score: 0.56\n",
      "For parameters {'batch_size': 128, 'gamma': 1.0, 'learning_rate': 0.001, 'model_type': 'bert-base-uncased'}:\n",
      "Epoch 1, Train Loss: 1.6223644316196442\n",
      "Epoch 2, Train Loss: 1.4896033108234406\n",
      "Epoch 3, Train Loss: 1.5084611773490906\n",
      "Epoch 4, Train Loss: 1.487658977508545\n",
      "Epoch 5, Train Loss: 1.4711710214614868\n",
      "Validation f1_score: 0.31\n",
      "For parameters {'batch_size': 128, 'gamma': 2.0, 'learning_rate': 0.0001, 'model_type': 'bert-base-uncased'}:\n",
      "Epoch 1, Train Loss: 1.2404128015041351\n",
      "Epoch 2, Train Loss: 1.0745696127414703\n",
      "Epoch 3, Train Loss: 0.8294549882411957\n",
      "Epoch 4, Train Loss: 0.5901225060224533\n",
      "Epoch 5, Train Loss: 0.37342991679906845\n",
      "Validation f1_score: 0.66\n",
      "For parameters {'batch_size': 128, 'gamma': 2.0, 'learning_rate': 0.001, 'model_type': 'bert-base-uncased'}:\n",
      "Epoch 1, Train Loss: 1.503560096025467\n",
      "Epoch 2, Train Loss: 1.3051912486553192\n",
      "Epoch 3, Train Loss: 1.2319352626800537\n",
      "Epoch 4, Train Loss: 1.2335008382797241\n",
      "Epoch 5, Train Loss: 1.2061547636985779\n",
      "Validation f1_score: 0.15\n",
      "For parameters {'batch_size': 128, 'gamma': 4.0, 'learning_rate': 0.0001, 'model_type': 'bert-base-uncased'}:\n",
      "Epoch 1, Train Loss: 0.8781697750091553\n",
      "Epoch 2, Train Loss: 0.7992976903915405\n",
      "Epoch 3, Train Loss: 0.6587128788232803\n",
      "Epoch 4, Train Loss: 0.48956526070833206\n",
      "Epoch 5, Train Loss: 0.24513431638479233\n",
      "Validation f1_score: 0.62\n",
      "For parameters {'batch_size': 128, 'gamma': 4.0, 'learning_rate': 0.001, 'model_type': 'bert-base-uncased'}:\n",
      "Epoch 1, Train Loss: 0.9562324285507202\n",
      "Epoch 2, Train Loss: 0.890656128525734\n",
      "Epoch 3, Train Loss: 0.8530650287866592\n",
      "Epoch 4, Train Loss: 0.8350930064916611\n",
      "Epoch 5, Train Loss: 0.8333938717842102\n",
      "Validation f1_score: 0.27\n"
     ]
    }
   ],
   "source": [
    "params_dict = {\n",
    "    'model_type': [\"bert-base-uncased\"],\n",
    "    #'weighted': [True],\n",
    "    'learning_rate': [1e-4, 1e-3],\n",
    "    'batch_size': [32, 64, 128],\n",
    "    'gamma': [0, 1.0, 2.0, 4.0]\n",
    "    #'weight_decay': [1e-4, 1e-5, 1e-6],\n",
    "}\n",
    "\n",
    "params_grid = ParameterGrid(params_dict)\n",
    "best_score_bert, best_params_bert = get_best_params(dataset_train_small, dataset_val_small, params_grid)"
   ]
  },
  {
   "cell_type": "code",
   "execution_count": 33,
   "id": "83d14e9f-b6d1-4182-928d-57163973a45f",
   "metadata": {},
   "outputs": [
    {
     "name": "stdout",
     "output_type": "stream",
     "text": [
      "0.78\n",
      "{'batch_size': 64, 'gamma': 0, 'learning_rate': 0.0001, 'model_type': 'bert-base-uncased'}\n"
     ]
    }
   ],
   "source": [
    "print(best_score_bert)\n",
    "print(best_params_bert)"
   ]
  },
  {
   "cell_type": "code",
   "execution_count": 37,
   "id": "6e4dc82c-de14-40df-87fa-b4a7f0be7716",
   "metadata": {
    "collapsed": true,
    "jupyter": {
     "outputs_hidden": true
    },
    "scrolled": true
   },
   "outputs": [
    {
     "name": "stdout",
     "output_type": "stream",
     "text": [
      "For parameters {'batch_size': 64, 'gamma': 0, 'learning_rate': 2e-05, 'model_type': 'bert-base-uncased'}:\n",
      "Epoch 1, Train Loss: 1.7604625225067139\n",
      "Epoch 2, Train Loss: 1.7037185281515121\n",
      "Epoch 3, Train Loss: 1.638557568192482\n",
      "Epoch 4, Train Loss: 1.5756717026233673\n",
      "Epoch 5, Train Loss: 1.433862566947937\n",
      "Validation f1_score: 0.4\n",
      "For parameters {'batch_size': 64, 'gamma': 0, 'learning_rate': 0.0001, 'model_type': 'bert-base-uncased'}:\n",
      "Epoch 1, Train Loss: 1.7951554656028748\n",
      "Epoch 2, Train Loss: 1.6501503139734268\n",
      "Epoch 3, Train Loss: 1.2518534511327744\n",
      "Epoch 4, Train Loss: 0.6808901727199554\n",
      "Epoch 5, Train Loss: 0.2904707361012697\n",
      "Validation f1_score: 0.78\n",
      "For parameters {'batch_size': 64, 'gamma': 0, 'learning_rate': 0.0005, 'model_type': 'bert-base-uncased'}:\n",
      "Epoch 1, Train Loss: 1.7832286804914474\n",
      "Epoch 2, Train Loss: 1.7685249894857407\n",
      "Epoch 3, Train Loss: 1.767035037279129\n",
      "Epoch 4, Train Loss: 1.8165578991174698\n",
      "Epoch 5, Train Loss: 1.7845617681741714\n",
      "Validation f1_score: 0.31\n",
      "For parameters {'batch_size': 64, 'gamma': 0.5, 'learning_rate': 2e-05, 'model_type': 'bert-base-uncased'}:\n",
      "Epoch 1, Train Loss: 1.612398847937584\n",
      "Epoch 2, Train Loss: 1.5566601604223251\n",
      "Epoch 3, Train Loss: 1.4874610602855682\n",
      "Epoch 4, Train Loss: 1.4203889667987823\n",
      "Epoch 5, Train Loss: 1.3156326413154602\n",
      "Validation f1_score: 0.48\n",
      "For parameters {'batch_size': 64, 'gamma': 0.5, 'learning_rate': 0.0001, 'model_type': 'bert-base-uncased'}:\n",
      "Epoch 1, Train Loss: 1.6215653121471405\n",
      "Epoch 2, Train Loss: 1.5194003283977509\n",
      "Epoch 3, Train Loss: 1.187426120042801\n",
      "Epoch 4, Train Loss: 0.6917036511003971\n",
      "Epoch 5, Train Loss: 0.32168469205498695\n",
      "Validation f1_score: 0.79\n",
      "For parameters {'batch_size': 64, 'gamma': 0.5, 'learning_rate': 0.0005, 'model_type': 'bert-base-uncased'}:\n",
      "Epoch 1, Train Loss: 1.6324231177568436\n",
      "Epoch 2, Train Loss: 1.600539967417717\n",
      "Epoch 3, Train Loss: 1.5898340791463852\n",
      "Epoch 4, Train Loss: 1.5760885030031204\n",
      "Epoch 5, Train Loss: 1.5919443666934967\n",
      "Validation f1_score: 0.31\n",
      "For parameters {'batch_size': 64, 'gamma': 1, 'learning_rate': 2e-05, 'model_type': 'bert-base-uncased'}:\n",
      "Epoch 1, Train Loss: 1.4738705605268478\n",
      "Epoch 2, Train Loss: 1.4067912250757217\n",
      "Epoch 3, Train Loss: 1.366184487938881\n",
      "Epoch 4, Train Loss: 1.2696815133094788\n",
      "Epoch 5, Train Loss: 1.151012271642685\n",
      "Validation f1_score: 0.44\n",
      "For parameters {'batch_size': 64, 'gamma': 1, 'learning_rate': 0.0001, 'model_type': 'bert-base-uncased'}:\n",
      "Epoch 1, Train Loss: 1.452975556254387\n",
      "Epoch 2, Train Loss: 1.3204762786626816\n",
      "Epoch 3, Train Loss: 0.8740250021219254\n",
      "Epoch 4, Train Loss: 0.42525145411491394\n",
      "Epoch 5, Train Loss: 0.17491754982620478\n",
      "Validation f1_score: 0.71\n",
      "For parameters {'batch_size': 64, 'gamma': 1, 'learning_rate': 0.0005, 'model_type': 'bert-base-uncased'}:\n",
      "Epoch 1, Train Loss: 1.4596215784549713\n",
      "Epoch 2, Train Loss: 1.4671814143657684\n",
      "Epoch 3, Train Loss: 1.4584286361932755\n",
      "Epoch 4, Train Loss: 1.4630973786115646\n",
      "Epoch 5, Train Loss: 1.4470242708921432\n",
      "Validation f1_score: 0.31\n",
      "0.79\n",
      "{'batch_size': 64, 'gamma': 0.5, 'learning_rate': 0.0001, 'model_type': 'bert-base-uncased'}\n"
     ]
    }
   ],
   "source": [
    "params_dict = {\n",
    "    'model_type': [\"bert-base-uncased\"],\n",
    "    #'weighted': [True],\n",
    "    'learning_rate': [2e-5, 1e-4, 5e-4],\n",
    "    'batch_size': [64],\n",
    "    'gamma': [0, 0.5, 1],\n",
    "    #'weight_decay': [1e-4, 1e-5, 1e-6],\n",
    "}\n",
    "\n",
    "params_grid = ParameterGrid(params_dict)\n",
    "best_score_bert, best_params_bert = get_best_params(dataset_train_small, dataset_val_small, params_grid)\n",
    "print(best_score_bert)\n",
    "print(best_params_bert)"
   ]
  },
  {
   "cell_type": "code",
   "execution_count": 39,
   "id": "39a3da00-db15-4d77-b972-39da7f3a73e4",
   "metadata": {
    "scrolled": true
   },
   "outputs": [
    {
     "name": "stdout",
     "output_type": "stream",
     "text": [
      "For parameters {'batch_size': 64, 'gamma': 0.5, 'learning_rate': 0.0001, 'model_type': 'bert-base-uncased', 'weight_decay': 0.0, 'weighted': False}:\n",
      "Epoch 1, Train Loss: 1.6088097989559174\n",
      "Epoch 2, Train Loss: 1.412953406572342\n",
      "Epoch 3, Train Loss: 1.1135205328464508\n",
      "Epoch 4, Train Loss: 0.7071713805198669\n",
      "Epoch 5, Train Loss: 0.3618566431105137\n",
      "Epoch 6, Train Loss: 0.1464164974167943\n",
      "Epoch 7, Train Loss: 0.0693928268738091\n",
      "Epoch 8, Train Loss: 0.022480771760456264\n",
      "Epoch 9, Train Loss: 0.017685371392872185\n",
      "Epoch 10, Train Loss: 0.008532863517757505\n",
      "Validation f1_score: 0.79\n",
      "For parameters {'batch_size': 64, 'gamma': 0.5, 'learning_rate': 0.0001, 'model_type': 'bert-base-uncased', 'weight_decay': 0.0, 'weighted': True}:\n",
      "Epoch 1, Train Loss: 1.627670332789421\n",
      "Epoch 2, Train Loss: 1.5631291568279266\n",
      "Epoch 3, Train Loss: 1.1576629877090454\n",
      "Epoch 4, Train Loss: 0.7296608239412308\n",
      "Epoch 5, Train Loss: 0.2847992405295372\n",
      "Epoch 6, Train Loss: 0.11193404346704483\n",
      "Epoch 7, Train Loss: 0.05119612067937851\n",
      "Epoch 8, Train Loss: 0.017215816187672317\n",
      "Epoch 9, Train Loss: 0.007601486402563751\n",
      "Epoch 10, Train Loss: 0.014425954228499904\n",
      "Validation f1_score: 0.78\n",
      "For parameters {'batch_size': 64, 'gamma': 0.5, 'learning_rate': 0.0001, 'model_type': 'bert-base-uncased', 'weight_decay': 0.0001, 'weighted': False}:\n",
      "Epoch 1, Train Loss: 1.619640976190567\n",
      "Epoch 2, Train Loss: 1.384332686662674\n",
      "Epoch 3, Train Loss: 1.1155753284692764\n",
      "Epoch 4, Train Loss: 0.7582885771989822\n",
      "Epoch 5, Train Loss: 0.43336275964975357\n",
      "Epoch 6, Train Loss: 0.18181259650737047\n",
      "Epoch 7, Train Loss: 0.07543749269098043\n",
      "Epoch 8, Train Loss: 0.03651393228210509\n",
      "Epoch 9, Train Loss: 0.02612318505998701\n",
      "Epoch 10, Train Loss: 0.01969612715765834\n",
      "Validation f1_score: 0.77\n",
      "For parameters {'batch_size': 64, 'gamma': 0.5, 'learning_rate': 0.0001, 'model_type': 'bert-base-uncased', 'weight_decay': 0.0001, 'weighted': True}:\n",
      "Epoch 1, Train Loss: 1.59498929977417\n",
      "Epoch 2, Train Loss: 1.5839307308197021\n",
      "Epoch 3, Train Loss: 1.2803329825401306\n",
      "Epoch 4, Train Loss: 0.8056652098894119\n",
      "Epoch 5, Train Loss: 0.47521325945854187\n",
      "Epoch 6, Train Loss: 0.2829552944749594\n",
      "Epoch 7, Train Loss: 0.1348622366786003\n",
      "Epoch 8, Train Loss: 0.08596628811210394\n",
      "Epoch 9, Train Loss: 0.03984440956264734\n",
      "Epoch 10, Train Loss: 0.016219730488955975\n",
      "Validation f1_score: 0.79\n",
      "For parameters {'batch_size': 64, 'gamma': 0.5, 'learning_rate': 0.0001, 'model_type': 'bert-base-uncased', 'weight_decay': 1e-05, 'weighted': False}:\n",
      "Epoch 1, Train Loss: 1.6304161697626114\n",
      "Epoch 2, Train Loss: 1.4197742938995361\n",
      "Epoch 3, Train Loss: 1.0006607323884964\n",
      "Epoch 4, Train Loss: 0.6266510635614395\n",
      "Epoch 5, Train Loss: 0.3323073349893093\n",
      "Epoch 6, Train Loss: 0.1363141736947\n",
      "Epoch 7, Train Loss: 0.0537475785240531\n",
      "Epoch 8, Train Loss: 0.03143674216698855\n",
      "Epoch 9, Train Loss: 0.028155251289717853\n",
      "Epoch 10, Train Loss: 0.010906364594120532\n",
      "Validation f1_score: 0.75\n",
      "For parameters {'batch_size': 64, 'gamma': 0.5, 'learning_rate': 0.0001, 'model_type': 'bert-base-uncased', 'weight_decay': 1e-05, 'weighted': True}:\n",
      "Epoch 1, Train Loss: 1.650514230132103\n",
      "Epoch 2, Train Loss: 1.5518165528774261\n",
      "Epoch 3, Train Loss: 1.185332030057907\n",
      "Epoch 4, Train Loss: 0.6159704998135567\n",
      "Epoch 5, Train Loss: 0.21837138757109642\n",
      "Epoch 6, Train Loss: 0.07172927493229508\n",
      "Epoch 7, Train Loss: 0.02429526241030544\n",
      "Epoch 8, Train Loss: 0.007426751486491412\n",
      "Epoch 9, Train Loss: 0.007220699219033122\n",
      "Epoch 10, Train Loss: 0.0035365787043701857\n",
      "Validation f1_score: 0.78\n",
      "For parameters {'batch_size': 64, 'gamma': 0.5, 'learning_rate': 0.0001, 'model_type': 'bert-base-uncased', 'weight_decay': 1e-06, 'weighted': False}:\n",
      "Epoch 1, Train Loss: 1.62563356757164\n",
      "Epoch 2, Train Loss: 1.5672711730003357\n",
      "Epoch 3, Train Loss: 1.3579872399568558\n",
      "Epoch 4, Train Loss: 0.7954655066132545\n",
      "Epoch 5, Train Loss: 0.3338738437741995\n",
      "Epoch 6, Train Loss: 0.11927528772503138\n",
      "Epoch 7, Train Loss: 0.060692717554047704\n",
      "Epoch 8, Train Loss: 0.0324268740369007\n",
      "Epoch 9, Train Loss: 0.024784447392448783\n",
      "Epoch 10, Train Loss: 0.009247709182091057\n",
      "Validation f1_score: 0.79\n",
      "For parameters {'batch_size': 64, 'gamma': 0.5, 'learning_rate': 0.0001, 'model_type': 'bert-base-uncased', 'weight_decay': 1e-06, 'weighted': True}:\n",
      "Epoch 1, Train Loss: 1.6268452852964401\n",
      "Epoch 2, Train Loss: 1.6005735099315643\n",
      "Epoch 3, Train Loss: 1.4721816033124924\n",
      "Epoch 4, Train Loss: 1.0902762860059738\n",
      "Epoch 5, Train Loss: 0.5779205523431301\n",
      "Epoch 6, Train Loss: 0.27182114496827126\n",
      "Epoch 7, Train Loss: 0.1167883793823421\n",
      "Epoch 8, Train Loss: 0.06267152028158307\n",
      "Epoch 9, Train Loss: 0.05186072795186192\n",
      "Epoch 10, Train Loss: 0.023763477453030646\n",
      "Validation f1_score: 0.77\n",
      "0.79\n",
      "{'batch_size': 64, 'gamma': 0.5, 'learning_rate': 0.0001, 'model_type': 'bert-base-uncased', 'weight_decay': 0.0, 'weighted': False}\n"
     ]
    }
   ],
   "source": [
    "params_dict = {\n",
    "    'model_type': [\"bert-base-uncased\"],\n",
    "    'weighted': [False, True],\n",
    "    'learning_rate': [1e-4],\n",
    "    'batch_size': [64],\n",
    "    'gamma': [0.5],\n",
    "    'weight_decay': [0.0, 1e-4, 1e-5, 1e-6],\n",
    "}\n",
    "\n",
    "params_grid = ParameterGrid(params_dict)\n",
    "best_score_bert, best_params_bert = get_best_params(dataset_train_small, dataset_val_small, params_grid, epochs=10)\n",
    "print(best_score_bert)\n",
    "print(best_params_bert)"
   ]
  },
  {
   "cell_type": "code",
   "execution_count": null,
   "id": "3668f990-b845-47ad-b460-0319c5f8d656",
   "metadata": {},
   "outputs": [],
   "source": []
  },
  {
   "cell_type": "code",
   "execution_count": 25,
   "id": "df72dc09",
   "metadata": {},
   "outputs": [
    {
     "name": "stdout",
     "output_type": "stream",
     "text": [
      "For parameters {'batch_size': 32, 'gamma': 0, 'learning_rate': 0.001, 'model_type': 'distilbert-base-uncased', 'weight_decay': 0.0, 'weighted': True}:\n",
      "Epoch 1, Train Loss: 2.3906323090195656\n",
      "Epoch 2, Train Loss: 1.886204868555069\n",
      "Epoch 3, Train Loss: 1.874621942639351\n",
      "Epoch 4, Train Loss: 1.8353125751018524\n",
      "Epoch 5, Train Loss: 1.7943029403686523\n",
      "Epoch 6, Train Loss: 1.8005635812878609\n",
      "Epoch 7, Train Loss: 1.8399434834718704\n",
      "Epoch 8, Train Loss: 1.843153327703476\n",
      "Validation f1_score: 0.27\n",
      "For parameters {'batch_size': 32, 'gamma': 0, 'learning_rate': 0.001, 'model_type': 'distilbert-base-uncased', 'weight_decay': 0.0, 'weighted': False}:\n",
      "Epoch 1, Train Loss: 2.951819285750389\n",
      "Epoch 2, Train Loss: 1.8766893297433853\n",
      "Epoch 3, Train Loss: 1.8137540966272354\n",
      "Epoch 4, Train Loss: 1.7791293561458588\n",
      "Epoch 5, Train Loss: 1.809242032468319\n",
      "Epoch 6, Train Loss: 1.7886387407779694\n",
      "Epoch 7, Train Loss: 1.810556784272194\n",
      "Epoch 8, Train Loss: 1.8536808341741562\n",
      "Validation f1_score: 0.27\n",
      "For parameters {'batch_size': 32, 'gamma': 0, 'learning_rate': 0.001, 'model_type': 'distilbert-base-uncased', 'weight_decay': 1e-06, 'weighted': True}:\n",
      "Epoch 1, Train Loss: 2.338073283433914\n",
      "Epoch 2, Train Loss: 1.8545456603169441\n",
      "Epoch 3, Train Loss: 1.8666653335094452\n",
      "Epoch 4, Train Loss: 1.8490107581019402\n",
      "Epoch 5, Train Loss: 1.7912469804286957\n",
      "Epoch 6, Train Loss: 1.8232557848095894\n",
      "Epoch 7, Train Loss: 1.7920791804790497\n",
      "Epoch 8, Train Loss: 1.8807427659630775\n",
      "Validation f1_score: 0.15\n",
      "For parameters {'batch_size': 32, 'gamma': 0, 'learning_rate': 0.001, 'model_type': 'distilbert-base-uncased', 'weight_decay': 1e-06, 'weighted': False}:\n",
      "Epoch 1, Train Loss: 2.378648854792118\n",
      "Epoch 2, Train Loss: 1.858930081129074\n",
      "Epoch 3, Train Loss: 1.7934947162866592\n",
      "Epoch 4, Train Loss: 1.7846351936459541\n",
      "Epoch 5, Train Loss: 1.8197500258684158\n",
      "Epoch 6, Train Loss: 1.7884669452905655\n",
      "Epoch 7, Train Loss: 1.7860071584582329\n",
      "Epoch 8, Train Loss: 1.7896545678377151\n",
      "Validation f1_score: 0.27\n",
      "For parameters {'batch_size': 32, 'gamma': 0, 'learning_rate': 0.0001, 'model_type': 'distilbert-base-uncased', 'weight_decay': 0.0, 'weighted': True}:\n",
      "Epoch 1, Train Loss: 1.8900607377290726\n",
      "Epoch 2, Train Loss: 1.8488033413887024\n",
      "Epoch 3, Train Loss: 1.8185483068227768\n",
      "Epoch 4, Train Loss: 1.8037468418478966\n",
      "Epoch 5, Train Loss: 1.788333386182785\n",
      "Epoch 6, Train Loss: 1.7781850397586823\n",
      "Epoch 7, Train Loss: 1.8048061430454254\n",
      "Epoch 8, Train Loss: 1.8004529774188995\n",
      "Validation f1_score: 0.15\n",
      "For parameters {'batch_size': 32, 'gamma': 0, 'learning_rate': 0.0001, 'model_type': 'distilbert-base-uncased', 'weight_decay': 0.0, 'weighted': False}:\n",
      "Epoch 1, Train Loss: 1.9543911516666412\n",
      "Epoch 2, Train Loss: 1.800271898508072\n",
      "Epoch 3, Train Loss: 1.761687532067299\n",
      "Epoch 4, Train Loss: 1.7490484416484833\n",
      "Epoch 5, Train Loss: 1.747088611125946\n",
      "Epoch 6, Train Loss: 1.7554975226521492\n",
      "Epoch 7, Train Loss: 1.766194649040699\n",
      "Epoch 8, Train Loss: 1.75759357213974\n",
      "Validation f1_score: 0.31\n",
      "For parameters {'batch_size': 32, 'gamma': 0, 'learning_rate': 0.0001, 'model_type': 'distilbert-base-uncased', 'weight_decay': 1e-06, 'weighted': True}:\n",
      "Epoch 1, Train Loss: 1.9182462990283966\n",
      "Epoch 2, Train Loss: 1.8032436519861221\n",
      "Epoch 3, Train Loss: 1.7851602137088776\n",
      "Epoch 4, Train Loss: 1.818235918879509\n",
      "Epoch 5, Train Loss: 1.7920187637209892\n",
      "Epoch 6, Train Loss: 1.7941999286413193\n",
      "Epoch 7, Train Loss: 1.8013144731521606\n",
      "Epoch 8, Train Loss: 1.816898375749588\n",
      "Validation f1_score: 0.27\n",
      "For parameters {'batch_size': 32, 'gamma': 0, 'learning_rate': 0.0001, 'model_type': 'distilbert-base-uncased', 'weight_decay': 1e-06, 'weighted': False}:\n",
      "Epoch 1, Train Loss: 1.87069633603096\n",
      "Epoch 2, Train Loss: 1.7798214182257652\n",
      "Epoch 3, Train Loss: 1.7862417846918106\n",
      "Epoch 4, Train Loss: 1.7925480157136917\n",
      "Epoch 5, Train Loss: 1.7672334015369415\n",
      "Epoch 6, Train Loss: 1.75825584679842\n",
      "Epoch 7, Train Loss: 1.7902845814824104\n",
      "Epoch 8, Train Loss: 1.775179386138916\n",
      "Validation f1_score: 0.31\n",
      "For parameters {'batch_size': 32, 'gamma': 0.5, 'learning_rate': 0.001, 'model_type': 'distilbert-base-uncased', 'weight_decay': 0.0, 'weighted': True}:\n",
      "Epoch 1, Train Loss: 2.3209082186222076\n",
      "Epoch 2, Train Loss: 1.703548401594162\n",
      "Epoch 3, Train Loss: 1.6796359717845917\n",
      "Epoch 4, Train Loss: 1.703998140990734\n",
      "Epoch 5, Train Loss: 1.7090865150094032\n",
      "Epoch 6, Train Loss: 1.6810209453105927\n",
      "Epoch 7, Train Loss: 1.6754359751939774\n",
      "Epoch 8, Train Loss: 1.6882572174072266\n",
      "Validation f1_score: 0.27\n",
      "For parameters {'batch_size': 32, 'gamma': 0.5, 'learning_rate': 0.001, 'model_type': 'distilbert-base-uncased', 'weight_decay': 0.0, 'weighted': False}:\n",
      "Epoch 1, Train Loss: 2.216424122452736\n",
      "Epoch 2, Train Loss: 1.6591971591114998\n",
      "Epoch 3, Train Loss: 1.641089215874672\n",
      "Epoch 4, Train Loss: 1.6615780889987946\n"
     ]
    },
    {
     "ename": "KeyboardInterrupt",
     "evalue": "",
     "output_type": "error",
     "traceback": [
      "\u001b[0;31m---------------------------------------------------------------------------\u001b[0m",
      "\u001b[0;31mKeyboardInterrupt\u001b[0m                         Traceback (most recent call last)",
      "Cell \u001b[0;32mIn[25], line 11\u001b[0m\n\u001b[1;32m      1\u001b[0m params_dict \u001b[38;5;241m=\u001b[39m {\n\u001b[1;32m      2\u001b[0m     \u001b[38;5;124m'\u001b[39m\u001b[38;5;124mmodel_type\u001b[39m\u001b[38;5;124m'\u001b[39m: [\u001b[38;5;124m\"\u001b[39m\u001b[38;5;124mdistilbert-base-uncased\u001b[39m\u001b[38;5;124m\"\u001b[39m],\n\u001b[1;32m      3\u001b[0m     \u001b[38;5;124m'\u001b[39m\u001b[38;5;124mweighted\u001b[39m\u001b[38;5;124m'\u001b[39m: [\u001b[38;5;28;01mTrue\u001b[39;00m, \u001b[38;5;28;01mFalse\u001b[39;00m],\n\u001b[0;32m   (...)\u001b[0m\n\u001b[1;32m      7\u001b[0m     \u001b[38;5;124m'\u001b[39m\u001b[38;5;124mweight_decay\u001b[39m\u001b[38;5;124m'\u001b[39m: [\u001b[38;5;241m0.0\u001b[39m, \u001b[38;5;241m1e-6\u001b[39m],\n\u001b[1;32m      8\u001b[0m }\n\u001b[1;32m     10\u001b[0m params_grid \u001b[38;5;241m=\u001b[39m ParameterGrid(params_dict)\n\u001b[0;32m---> 11\u001b[0m best_score_distilbert, best_params_distilbert \u001b[38;5;241m=\u001b[39m \u001b[43mget_best_params\u001b[49m\u001b[43m(\u001b[49m\u001b[43mdataset_train_small\u001b[49m\u001b[43m,\u001b[49m\u001b[43m \u001b[49m\u001b[43mdataset_val_small\u001b[49m\u001b[43m,\u001b[49m\u001b[43m \u001b[49m\u001b[43mparams_grid\u001b[49m\u001b[43m,\u001b[49m\u001b[43m \u001b[49m\u001b[43mepochs\u001b[49m\u001b[38;5;241;43m=\u001b[39;49m\u001b[38;5;241;43m8\u001b[39;49m\u001b[43m)\u001b[49m\n",
      "Cell \u001b[0;32mIn[24], line 90\u001b[0m, in \u001b[0;36mget_best_params\u001b[0;34m(train_df, val_df, params_grid, epochs)\u001b[0m\n\u001b[1;32m     88\u001b[0m best_params \u001b[38;5;241m=\u001b[39m \u001b[38;5;28mdict\u001b[39m()\n\u001b[1;32m     89\u001b[0m \u001b[38;5;28;01mfor\u001b[39;00m params \u001b[38;5;129;01min\u001b[39;00m params_grid:\n\u001b[0;32m---> 90\u001b[0m     score \u001b[38;5;241m=\u001b[39m \u001b[43mtrain_and_eval\u001b[49m\u001b[43m(\u001b[49m\u001b[43mdataset_train_small\u001b[49m\u001b[43m,\u001b[49m\u001b[43m \u001b[49m\u001b[43mdataset_val_small\u001b[49m\u001b[43m,\u001b[49m\u001b[43m \u001b[49m\u001b[43mparams\u001b[49m\u001b[43m,\u001b[49m\u001b[43m \u001b[49m\u001b[43mepochs\u001b[49m\u001b[38;5;241;43m=\u001b[39;49m\u001b[43mepochs\u001b[49m\u001b[43m)\u001b[49m\n\u001b[1;32m     91\u001b[0m     \u001b[38;5;28;01mif\u001b[39;00m score \u001b[38;5;241m>\u001b[39m best_score:\n\u001b[1;32m     92\u001b[0m         best_score \u001b[38;5;241m=\u001b[39m score\n",
      "Cell \u001b[0;32mIn[24], line 46\u001b[0m, in \u001b[0;36mtrain_and_eval\u001b[0;34m(train_df, val_df, params, epochs)\u001b[0m\n\u001b[1;32m     43\u001b[0m \u001b[38;5;28;01mfor\u001b[39;00m batch \u001b[38;5;129;01min\u001b[39;00m train_loader:\n\u001b[1;32m     44\u001b[0m     optimizer\u001b[38;5;241m.\u001b[39mzero_grad()\n\u001b[0;32m---> 46\u001b[0m     input_ids \u001b[38;5;241m=\u001b[39m \u001b[43mbatch\u001b[49m\u001b[43m[\u001b[49m\u001b[38;5;124;43m'\u001b[39;49m\u001b[38;5;124;43minput_ids\u001b[39;49m\u001b[38;5;124;43m'\u001b[39;49m\u001b[43m]\u001b[49m\u001b[38;5;241;43m.\u001b[39;49m\u001b[43mto\u001b[49m\u001b[43m(\u001b[49m\u001b[43mdevice\u001b[49m\u001b[43m)\u001b[49m\n\u001b[1;32m     47\u001b[0m     attention_mask \u001b[38;5;241m=\u001b[39m batch[\u001b[38;5;124m'\u001b[39m\u001b[38;5;124mattention_mask\u001b[39m\u001b[38;5;124m'\u001b[39m]\u001b[38;5;241m.\u001b[39mto(device)\n\u001b[1;32m     48\u001b[0m     labels \u001b[38;5;241m=\u001b[39m batch[\u001b[38;5;124m'\u001b[39m\u001b[38;5;124mlabel\u001b[39m\u001b[38;5;124m'\u001b[39m]\u001b[38;5;241m.\u001b[39mto(device)\n",
      "\u001b[0;31mKeyboardInterrupt\u001b[0m: "
     ]
    }
   ],
   "source": [
    "params_dict = {\n",
    "    'model_type': [\"distilbert-base-uncased\"],\n",
    "    'weighted': [True, False],\n",
    "    'learning_rate': [1e-3, 1e-4],\n",
    "    'batch_size': [32],\n",
    "    'gamma': [0, 0.5, 1],\n",
    "    'weight_decay': [0.0, 1e-6],\n",
    "}\n",
    "\n",
    "params_grid = ParameterGrid(params_dict)\n",
    "best_score_distilbert, best_params_distilbert = get_best_params(dataset_train_small, dataset_val_small, params_grid, epochs=8)"
   ]
  },
  {
   "cell_type": "code",
   "execution_count": null,
   "id": "d7b7dcc8-7af5-4b64-a621-344b540e67a7",
   "metadata": {},
   "outputs": [],
   "source": [
    "print(best_score_distilbert)\n",
    "print(best_params_distilbert)"
   ]
  },
  {
   "cell_type": "code",
   "execution_count": 25,
   "id": "75c25b6c-0300-4cb1-9dd7-d6cee0ae4472",
   "metadata": {},
   "outputs": [],
   "source": [
    "def train(train_df, val_df, params, epochs=5):\n",
    "    device = torch.device('cuda') if torch.cuda.is_available() else torch.device('cpu')\n",
    "\n",
    "    tokenizer = BertTokenizer.from_pretrained(params[\"model_type\"])\n",
    "    model = BertForSequenceClassification.from_pretrained(params[\"model_type\"], num_labels=6)\n",
    "    \n",
    "    train_dataset = convert_to_torch_dataset(train_df, tokenizer)\n",
    "    val_dataset = convert_to_torch_dataset(val_df, tokenizer)\n",
    "\n",
    "    \n",
    "    train_loader = DataLoader(train_dataset, batch_size=params[\"batch_size\"], shuffle=True)\n",
    "    val_loader = DataLoader(val_dataset, batch_size=params[\"batch_size\"])\n",
    "    \n",
    "    optimizer = torch.optim.AdamW(\n",
    "        model.parameters(), \n",
    "        lr=params[\"learning_rate\"], \n",
    "        weight_decay=params.get(\"weight_decay\", 0.0)\n",
    "    )\n",
    "    \n",
    "    loss_fn = None\n",
    "    weights = torch.from_numpy(class_weights).to(torch.float32).to(device)\n",
    "    if params.get(\"weighted\", False):\n",
    "        #loss_fn = torch.nn.CrossEntropyLoss(weight = weights)\n",
    "        loss_fn = FocalLoss(\n",
    "            gamma=params.get(\"gamma\", 2.0),\n",
    "            alpha=params.get(\"alpha\", 1.0),\n",
    "            weight=weights,\n",
    "            reduction=\"mean\"\n",
    "        )\n",
    "    else:\n",
    "        loss_fn = FocalLoss(\n",
    "            gamma=params.get(\"gamma\", 2.0),\n",
    "            alpha=params.get(\"alpha\", 1.0),\n",
    "            reduction=\"mean\",\n",
    "        )\n",
    "    \n",
    "    model.to(device)\n",
    "    max_f1 = -float(\"inf\")\n",
    "    msg_template = \"Train Epoch {epoch} - Focal Loss: {f_loss}\"\n",
    "    for epoch in range(epochs):\n",
    "        model.train()\n",
    "        \n",
    "        total_loss = 0.0\n",
    "        num_passed = 0.0\n",
    "        loader = tqdm(train_loader)\n",
    "\n",
    "        \n",
    "        # Training phase\n",
    "        for batch in loader:\n",
    "            optimizer.zero_grad()\n",
    "\n",
    "            input_ids = batch['input_ids'].to(device)\n",
    "            attention_mask = batch['attention_mask'].to(device)\n",
    "            labels = batch['label'].to(device)\n",
    "\n",
    "            B = input_ids.size(0)\n",
    "\n",
    "            outputs = model(input_ids, attention_mask=attention_mask, labels=labels)\n",
    "            logits = outputs.logits\n",
    "            \n",
    "            loss = loss_fn(logits, labels.long())\n",
    "            \n",
    "            total_loss += loss.item() * B\n",
    "            num_passed += B\n",
    "\n",
    "            loss.backward()\n",
    "            optimizer.step()\n",
    "            \n",
    "            loader.set_description(msg_template.format(epoch=epoch, f_loss= total_loss/num_passed))\n",
    "            \n",
    "        model.eval()\n",
    "        eval_metrics = validate(val_loader, model)\n",
    "        print(f\"Validation Epoch {epoch}:\")\n",
    "        print(eval_metrics)\n",
    "\n",
    "        if eval_metrics[\"f1\"] > max_f1:\n",
    "            min_f1 = eval_metrics[\"f1\"]\n",
    "            torch.save(model, \"{}_{}_best.pt\".format(params[\"model_type\"], epoch))\n",
    "            \n",
    "    \n",
    "    return model\n",
    "\n",
    "def validate(val_loader, model):\n",
    "    predictions, true_labels = [], []\n",
    "    device = torch.device('cuda') if torch.cuda.is_available() else torch.device('cpu')\n",
    "        \n",
    "    with torch.no_grad():\n",
    "        for batch in val_loader:\n",
    "            input_ids = batch['input_ids'].to(device)\n",
    "            attention_mask = batch['attention_mask'].to(device)\n",
    "            labels = batch['label'].to(device)\n",
    "    \n",
    "            outputs = model(input_ids, attention_mask=attention_mask)\n",
    "            logits = outputs.logits\n",
    "            preds = torch.argmax(logits, dim=-1).cpu().numpy()\n",
    "            label_ids = labels.cpu().numpy()\n",
    "    \n",
    "            predictions.extend(preds)\n",
    "            true_labels.extend(label_ids)\n",
    "    \n",
    "    metrics = {\n",
    "        \"f1\": f1_score(true_labels, predictions, average=\"micro\"),\n",
    "        \"acc\": accuracy_score(true_labels, predictions)\n",
    "    }\n",
    "    return metrics"
   ]
  },
  {
   "cell_type": "code",
   "execution_count": 26,
   "id": "ddf8fcd1-4848-45a9-a72e-2fe0e771da0d",
   "metadata": {},
   "outputs": [],
   "source": [
    "best_params_bert = {'batch_size': 32, 'gamma': 0.5, 'learning_rate': 0.0001, 'model_type': 'bert-base-uncased', 'weight_decay': 0.0, 'weighted': False}\n",
    "best_params_distilbert = {'batch_size': 32, 'gamma': 0, 'learning_rate': 0.0001, 'model_type': 'distilbert-base-uncased', 'weight_decay': 1e-06, 'weighted': True}"
   ]
  },
  {
   "cell_type": "code",
   "execution_count": 27,
   "id": "e1d5fb8f-2810-46b3-948c-ea854abea9ed",
   "metadata": {
    "scrolled": true
   },
   "outputs": [
    {
     "name": "stderr",
     "output_type": "stream",
     "text": [
      "Train Epoch 0 - Focal Loss: 1.6024139394760133: 100%|█| 16/16 [00:09<00:00,  1.6\n"
     ]
    },
    {
     "name": "stdout",
     "output_type": "stream",
     "text": [
      "Validation Epoch 0:\n",
      "{'f1': 0.47, 'acc': 0.47}\n"
     ]
    },
    {
     "name": "stderr",
     "output_type": "stream",
     "text": [
      "Train Epoch 1 - Focal Loss: 1.2276220412254333: 100%|█| 16/16 [00:09<00:00,  1.7\n"
     ]
    },
    {
     "name": "stdout",
     "output_type": "stream",
     "text": [
      "Validation Epoch 1:\n",
      "{'f1': 0.61, 'acc': 0.61}\n"
     ]
    },
    {
     "name": "stderr",
     "output_type": "stream",
     "text": [
      "Train Epoch 2 - Focal Loss: 0.5627620348930359: 100%|█| 16/16 [00:09<00:00,  1.7\n"
     ]
    },
    {
     "name": "stdout",
     "output_type": "stream",
     "text": [
      "Validation Epoch 2:\n",
      "{'f1': 0.76, 'acc': 0.76}\n"
     ]
    },
    {
     "name": "stderr",
     "output_type": "stream",
     "text": [
      "Train Epoch 3 - Focal Loss: 0.27308425706624984: 100%|█| 16/16 [00:09<00:00,  1.\n"
     ]
    },
    {
     "name": "stdout",
     "output_type": "stream",
     "text": [
      "Validation Epoch 3:\n",
      "{'f1': 0.73, 'acc': 0.73}\n"
     ]
    },
    {
     "name": "stderr",
     "output_type": "stream",
     "text": [
      "Train Epoch 4 - Focal Loss: 0.13731605672836303: 100%|█| 16/16 [00:10<00:00,  1.\n"
     ]
    },
    {
     "name": "stdout",
     "output_type": "stream",
     "text": [
      "Validation Epoch 4:\n",
      "{'f1': 0.79, 'acc': 0.79}\n"
     ]
    },
    {
     "name": "stderr",
     "output_type": "stream",
     "text": [
      "Train Epoch 5 - Focal Loss: 0.07737074538320303: 100%|█| 16/16 [00:12<00:00,  1.\n"
     ]
    },
    {
     "name": "stdout",
     "output_type": "stream",
     "text": [
      "Validation Epoch 5:\n",
      "{'f1': 0.78, 'acc': 0.78}\n"
     ]
    },
    {
     "name": "stderr",
     "output_type": "stream",
     "text": [
      "Train Epoch 6 - Focal Loss: 0.04147933666408062: 100%|█| 16/16 [00:13<00:00,  1.\n"
     ]
    },
    {
     "name": "stdout",
     "output_type": "stream",
     "text": [
      "Validation Epoch 6:\n",
      "{'f1': 0.75, 'acc': 0.75}\n"
     ]
    },
    {
     "name": "stderr",
     "output_type": "stream",
     "text": [
      "Train Epoch 7 - Focal Loss: 0.022111626505851745: 100%|█| 16/16 [00:13<00:00,  1\n"
     ]
    },
    {
     "name": "stdout",
     "output_type": "stream",
     "text": [
      "Validation Epoch 7:\n",
      "{'f1': 0.76, 'acc': 0.76}\n"
     ]
    },
    {
     "name": "stderr",
     "output_type": "stream",
     "text": [
      "Train Epoch 8 - Focal Loss: 0.009981792028993368: 100%|█| 16/16 [00:12<00:00,  1\n"
     ]
    },
    {
     "name": "stdout",
     "output_type": "stream",
     "text": [
      "Validation Epoch 8:\n",
      "{'f1': 0.76, 'acc': 0.76}\n"
     ]
    },
    {
     "name": "stderr",
     "output_type": "stream",
     "text": [
      "Train Epoch 9 - Focal Loss: 0.0061290997946634885: 100%|█| 16/16 [00:13<00:00,  \n"
     ]
    },
    {
     "name": "stdout",
     "output_type": "stream",
     "text": [
      "Validation Epoch 9:\n",
      "{'f1': 0.74, 'acc': 0.74}\n"
     ]
    },
    {
     "name": "stderr",
     "output_type": "stream",
     "text": [
      "Train Epoch 10 - Focal Loss: 0.00401424540951848: 100%|█| 16/16 [00:12<00:00,  1\n"
     ]
    },
    {
     "name": "stdout",
     "output_type": "stream",
     "text": [
      "Validation Epoch 10:\n",
      "{'f1': 0.74, 'acc': 0.74}\n"
     ]
    },
    {
     "name": "stderr",
     "output_type": "stream",
     "text": [
      "Train Epoch 11 - Focal Loss: 0.002699776004999876: 100%|█| 16/16 [00:13<00:00,  \n"
     ]
    },
    {
     "name": "stdout",
     "output_type": "stream",
     "text": [
      "Validation Epoch 11:\n",
      "{'f1': 0.73, 'acc': 0.73}\n"
     ]
    },
    {
     "name": "stderr",
     "output_type": "stream",
     "text": [
      "Train Epoch 12 - Focal Loss: 0.02734510713815689: 100%|█| 16/16 [00:13<00:00,  1\n"
     ]
    },
    {
     "name": "stdout",
     "output_type": "stream",
     "text": [
      "Validation Epoch 12:\n",
      "{'f1': 0.68, 'acc': 0.68}\n"
     ]
    },
    {
     "name": "stderr",
     "output_type": "stream",
     "text": [
      "Train Epoch 13 - Focal Loss: 0.09993836548179388: 100%|█| 16/16 [00:11<00:00,  1\n"
     ]
    },
    {
     "name": "stdout",
     "output_type": "stream",
     "text": [
      "Validation Epoch 13:\n",
      "{'f1': 0.75, 'acc': 0.75}\n"
     ]
    },
    {
     "name": "stderr",
     "output_type": "stream",
     "text": [
      "Train Epoch 14 - Focal Loss: 0.07390808434039355: 100%|█| 16/16 [00:11<00:00,  1\n"
     ]
    },
    {
     "name": "stdout",
     "output_type": "stream",
     "text": [
      "Validation Epoch 14:\n",
      "{'f1': 0.78, 'acc': 0.78}\n"
     ]
    }
   ],
   "source": [
    "bert_model = train(dataset_train_small, dataset_val_small, best_params_bert, epochs=15)"
   ]
  },
  {
   "cell_type": "code",
   "execution_count": 28,
   "id": "6d28645b-d2e4-44ee-9446-1a8f66fd0376",
   "metadata": {
    "scrolled": true
   },
   "outputs": [
    {
     "name": "stderr",
     "output_type": "stream",
     "text": [
      "Train Epoch 0 - Focal Loss: 1.959618660926819: 100%|█| 16/16 [00:11<00:00,  1.45\n"
     ]
    },
    {
     "name": "stdout",
     "output_type": "stream",
     "text": [
      "Validation Epoch 0:\n",
      "{'f1': 0.1, 'acc': 0.1}\n"
     ]
    },
    {
     "name": "stderr",
     "output_type": "stream",
     "text": [
      "Train Epoch 1 - Focal Loss: 1.7949633722305298: 100%|█| 16/16 [00:11<00:00,  1.3\n"
     ]
    },
    {
     "name": "stdout",
     "output_type": "stream",
     "text": [
      "Validation Epoch 1:\n",
      "{'f1': 0.15, 'acc': 0.15}\n"
     ]
    },
    {
     "name": "stderr",
     "output_type": "stream",
     "text": [
      "Train Epoch 2 - Focal Loss: 1.802233283996582: 100%|█| 16/16 [00:12<00:00,  1.32\n"
     ]
    },
    {
     "name": "stdout",
     "output_type": "stream",
     "text": [
      "Validation Epoch 2:\n",
      "{'f1': 0.27, 'acc': 0.27}\n"
     ]
    },
    {
     "name": "stderr",
     "output_type": "stream",
     "text": [
      "Train Epoch 3 - Focal Loss: 1.8087242212295531: 100%|█| 16/16 [00:13<00:00,  1.2\n"
     ]
    },
    {
     "name": "stdout",
     "output_type": "stream",
     "text": [
      "Validation Epoch 3:\n",
      "{'f1': 0.07, 'acc': 0.07}\n"
     ]
    },
    {
     "name": "stderr",
     "output_type": "stream",
     "text": [
      "Train Epoch 4 - Focal Loss: 1.82548477935791: 100%|█| 16/16 [00:12<00:00,  1.32i\n"
     ]
    },
    {
     "name": "stdout",
     "output_type": "stream",
     "text": [
      "Validation Epoch 4:\n",
      "{'f1': 0.15, 'acc': 0.15}\n"
     ]
    },
    {
     "name": "stderr",
     "output_type": "stream",
     "text": [
      "Train Epoch 5 - Focal Loss: 1.7861412734985351: 100%|█| 16/16 [00:12<00:00,  1.3\n"
     ]
    },
    {
     "name": "stdout",
     "output_type": "stream",
     "text": [
      "Validation Epoch 5:\n",
      "{'f1': 0.27, 'acc': 0.27}\n"
     ]
    },
    {
     "name": "stderr",
     "output_type": "stream",
     "text": [
      "Train Epoch 6 - Focal Loss: 1.7797052516937255: 100%|█| 16/16 [00:12<00:00,  1.3\n"
     ]
    },
    {
     "name": "stdout",
     "output_type": "stream",
     "text": [
      "Validation Epoch 6:\n",
      "{'f1': 0.31, 'acc': 0.31}\n"
     ]
    },
    {
     "name": "stderr",
     "output_type": "stream",
     "text": [
      "Train Epoch 7 - Focal Loss: 1.7932622470855712: 100%|█| 16/16 [00:12<00:00,  1.3\n"
     ]
    },
    {
     "name": "stdout",
     "output_type": "stream",
     "text": [
      "Validation Epoch 7:\n",
      "{'f1': 0.27, 'acc': 0.27}\n"
     ]
    },
    {
     "name": "stderr",
     "output_type": "stream",
     "text": [
      "Train Epoch 8 - Focal Loss: 1.7890682907104491: 100%|█| 16/16 [00:12<00:00,  1.2\n"
     ]
    },
    {
     "name": "stdout",
     "output_type": "stream",
     "text": [
      "Validation Epoch 8:\n",
      "{'f1': 0.15, 'acc': 0.15}\n"
     ]
    },
    {
     "name": "stderr",
     "output_type": "stream",
     "text": [
      "Train Epoch 9 - Focal Loss: 1.7841843576431275: 100%|█| 16/16 [00:12<00:00,  1.2\n"
     ]
    },
    {
     "name": "stdout",
     "output_type": "stream",
     "text": [
      "Validation Epoch 9:\n",
      "{'f1': 0.31, 'acc': 0.31}\n"
     ]
    },
    {
     "name": "stderr",
     "output_type": "stream",
     "text": [
      "Train Epoch 10 - Focal Loss: 1.7835931024551392: 100%|█| 16/16 [00:13<00:00,  1.\n"
     ]
    },
    {
     "name": "stdout",
     "output_type": "stream",
     "text": [
      "Validation Epoch 10:\n",
      "{'f1': 0.27, 'acc': 0.27}\n"
     ]
    },
    {
     "name": "stderr",
     "output_type": "stream",
     "text": [
      "Train Epoch 11 - Focal Loss: 1.7930518884658813: 100%|█| 16/16 [00:12<00:00,  1.\n"
     ]
    },
    {
     "name": "stdout",
     "output_type": "stream",
     "text": [
      "Validation Epoch 11:\n",
      "{'f1': 0.27, 'acc': 0.27}\n"
     ]
    },
    {
     "name": "stderr",
     "output_type": "stream",
     "text": [
      "Train Epoch 12 - Focal Loss: 1.7940349349975586: 100%|█| 16/16 [00:12<00:00,  1.\n"
     ]
    },
    {
     "name": "stdout",
     "output_type": "stream",
     "text": [
      "Validation Epoch 12:\n",
      "{'f1': 0.27, 'acc': 0.27}\n"
     ]
    },
    {
     "name": "stderr",
     "output_type": "stream",
     "text": [
      "Train Epoch 13 - Focal Loss: 1.7819949884414672: 100%|█| 16/16 [00:12<00:00,  1.\n"
     ]
    },
    {
     "name": "stdout",
     "output_type": "stream",
     "text": [
      "Validation Epoch 13:\n",
      "{'f1': 0.15, 'acc': 0.15}\n"
     ]
    },
    {
     "name": "stderr",
     "output_type": "stream",
     "text": [
      "Train Epoch 14 - Focal Loss: 1.780105131149292: 100%|█| 16/16 [00:13<00:00,  1.2\n"
     ]
    },
    {
     "name": "stdout",
     "output_type": "stream",
     "text": [
      "Validation Epoch 14:\n",
      "{'f1': 0.15, 'acc': 0.15}\n"
     ]
    }
   ],
   "source": [
    "distil_bert_model = train(dataset_train_small, dataset_val_small, best_params_distilbert, epochs=15)"
   ]
  },
  {
   "cell_type": "code",
   "execution_count": null,
   "id": "d2d104ba-ba71-4b2b-89f1-cbf0d968390a",
   "metadata": {},
   "outputs": [],
   "source": []
  },
  {
   "cell_type": "code",
   "execution_count": null,
   "id": "9a94f6db-4642-4fee-880b-1c9269d41a74",
   "metadata": {},
   "outputs": [],
   "source": []
  },
  {
   "cell_type": "code",
   "execution_count": null,
   "id": "c16d5f91-6a41-49b3-aa83-885a1ad354dd",
   "metadata": {},
   "outputs": [],
   "source": []
  },
  {
   "cell_type": "markdown",
   "id": "08768473-b971-4a16-af6a-a0d6e9f14124",
   "metadata": {},
   "source": [
    "<h3>Comments on Hyperparameter Tuning and Model Training</h3>"
   ]
  },
  {
   "cell_type": "markdown",
   "id": "d7157edd-18c2-42b8-ad07-2c81807bbb4a",
   "metadata": {},
   "source": [
    "- Both BERT and DistilBERT are used with get best parameters to detect the best hyperparameters. Using these hyperparameters both of the models are trained with 500 sample size and epoch size of 15.\n",
    "- Analyzing the results it can be noticed that BERT model is overfitting and DistilBERTH is underfitting. The reason behind these is BERT has more capacity than distilBERT hence, it can learn more complex relations. But this leads to overfit due to the small sample size and also because of the capacity difference DistilBERT underfits. \n",
    "\n",
    "- For this problem more time and resources were needed to try more things, and explore the results in more visualised and better ways. Bigger sample size and epochs could have been useful at the final training.\n",
    "\n",
    "- Improvement could be have done by visualizing the loss values for training and validation with tensorboard."
   ]
  },
  {
   "cell_type": "code",
   "execution_count": null,
   "id": "9906714c-710c-4f03-97c4-2031bdb9703b",
   "metadata": {},
   "outputs": [],
   "source": []
  },
  {
   "cell_type": "markdown",
   "id": "baa6fa14",
   "metadata": {},
   "source": [
    "<h3>Load Model"
   ]
  },
  {
   "cell_type": "code",
   "execution_count": 47,
   "id": "84e024fc",
   "metadata": {},
   "outputs": [
    {
     "data": {
      "text/plain": [
       "BertForSequenceClassification(\n",
       "  (bert): BertModel(\n",
       "    (embeddings): BertEmbeddings(\n",
       "      (word_embeddings): Embedding(30522, 768, padding_idx=0)\n",
       "      (position_embeddings): Embedding(512, 768)\n",
       "      (token_type_embeddings): Embedding(2, 768)\n",
       "      (LayerNorm): LayerNorm((768,), eps=1e-12, elementwise_affine=True)\n",
       "      (dropout): Dropout(p=0.1, inplace=False)\n",
       "    )\n",
       "    (encoder): BertEncoder(\n",
       "      (layer): ModuleList(\n",
       "        (0-11): 12 x BertLayer(\n",
       "          (attention): BertAttention(\n",
       "            (self): BertSdpaSelfAttention(\n",
       "              (query): Linear(in_features=768, out_features=768, bias=True)\n",
       "              (key): Linear(in_features=768, out_features=768, bias=True)\n",
       "              (value): Linear(in_features=768, out_features=768, bias=True)\n",
       "              (dropout): Dropout(p=0.1, inplace=False)\n",
       "            )\n",
       "            (output): BertSelfOutput(\n",
       "              (dense): Linear(in_features=768, out_features=768, bias=True)\n",
       "              (LayerNorm): LayerNorm((768,), eps=1e-12, elementwise_affine=True)\n",
       "              (dropout): Dropout(p=0.1, inplace=False)\n",
       "            )\n",
       "          )\n",
       "          (intermediate): BertIntermediate(\n",
       "            (dense): Linear(in_features=768, out_features=3072, bias=True)\n",
       "            (intermediate_act_fn): GELUActivation()\n",
       "          )\n",
       "          (output): BertOutput(\n",
       "            (dense): Linear(in_features=3072, out_features=768, bias=True)\n",
       "            (LayerNorm): LayerNorm((768,), eps=1e-12, elementwise_affine=True)\n",
       "            (dropout): Dropout(p=0.1, inplace=False)\n",
       "          )\n",
       "        )\n",
       "      )\n",
       "    )\n",
       "    (pooler): BertPooler(\n",
       "      (dense): Linear(in_features=768, out_features=768, bias=True)\n",
       "      (activation): Tanh()\n",
       "    )\n",
       "  )\n",
       "  (dropout): Dropout(p=0.1, inplace=False)\n",
       "  (classifier): Linear(in_features=768, out_features=6, bias=True)\n",
       ")"
      ]
     },
     "execution_count": 47,
     "metadata": {},
     "output_type": "execute_result"
    }
   ],
   "source": [
    "device = \"cuda\" # the device to load the model onto\n",
    "model_name = \"bert-base-uncased_14_best.pt\"\n",
    "\n",
    "bert_model = torch.load(\"bert-base-uncased_14_best.pt\")\n",
    "bert_model.eval()"
   ]
  },
  {
   "cell_type": "code",
   "execution_count": 48,
   "id": "abc92d41-1c0e-415a-80ad-f0a716a4c99a",
   "metadata": {},
   "outputs": [],
   "source": [
    "tokenizer = BertTokenizer.from_pretrained(\"bert-base-uncased\")"
   ]
  },
  {
   "cell_type": "code",
   "execution_count": 49,
   "id": "1f48a310-c623-4fe2-b11e-ca2362f18cb6",
   "metadata": {},
   "outputs": [],
   "source": [
    "dataset_test_small = datasets[\"test\"].sample(n=100, random_state = 42)"
   ]
  },
  {
   "cell_type": "code",
   "execution_count": 50,
   "id": "4e9cd831-6724-4b9f-a749-6f4a6c3169d6",
   "metadata": {},
   "outputs": [],
   "source": [
    "def test(model, tokenizer, test_df, device):\n",
    "    test_dataset = convert_to_torch_dataset(test_df, tokenizer)\n",
    "    test_loader = DataLoader(test_dataset, batch_size=32)\n",
    "    \n",
    "    predictions, true_labels, input_ids_all = [], [], []\n",
    "        \n",
    "    with torch.no_grad():\n",
    "        for batch in test_loader:\n",
    "            input_ids_all.extend(batch['input_ids'].cpu().numpy())\n",
    "            \n",
    "            input_ids = batch['input_ids'].to(device)\n",
    "            attention_mask = batch['attention_mask'].to(device)\n",
    "            labels = batch['label'].to(device)\n",
    "    \n",
    "            outputs = model(input_ids, attention_mask=attention_mask)\n",
    "            logits = outputs.logits\n",
    "            preds = torch.argmax(logits, dim=-1).cpu().numpy()\n",
    "            label_ids = labels.cpu().numpy()\n",
    "    \n",
    "            predictions.extend(preds)\n",
    "            true_labels.extend(label_ids)\n",
    "    \n",
    "    metrics = {\n",
    "        \"f1\": f1_score(true_labels, predictions, average=\"micro\"),\n",
    "        \"acc\": accuracy_score(true_labels, predictions)\n",
    "    }\n",
    "    return predictions, true_labels, metrics, input_ids_all"
   ]
  },
  {
   "cell_type": "code",
   "execution_count": 51,
   "id": "8f2a7aaf-4ad4-4fc6-8182-a8501a6d5ee1",
   "metadata": {},
   "outputs": [],
   "source": [
    "predictions, true_labels, metrics, input_ids = test(bert_model, tokenizer, dataset_test_small, device)"
   ]
  },
  {
   "cell_type": "code",
   "execution_count": 35,
   "id": "e8328978",
   "metadata": {},
   "outputs": [
    {
     "data": {
      "text/plain": [
       "{'f1': 0.85, 'acc': 0.85}"
      ]
     },
     "execution_count": 35,
     "metadata": {},
     "output_type": "execute_result"
    }
   ],
   "source": [
    "metrics"
   ]
  },
  {
   "cell_type": "code",
   "execution_count": 57,
   "id": "b987c41f-3552-4c29-a20f-0fe8c0550a03",
   "metadata": {},
   "outputs": [],
   "source": [
    "def get_embeddings(input_ids, model):\n",
    "    with torch.no_grad():\n",
    "        embeddings = model.bert.embeddings(torch.LongTensor(input_ids).to(\"cuda\"))\n",
    "    return embeddings"
   ]
  },
  {
   "cell_type": "code",
   "execution_count": null,
   "id": "d600d472-87df-451b-8971-c0624f8e9354",
   "metadata": {},
   "outputs": [],
   "source": []
  },
  {
   "cell_type": "code",
   "execution_count": 60,
   "id": "10383757",
   "metadata": {},
   "outputs": [
    {
     "ename": "ValueError",
     "evalue": "too many values to unpack (expected 2)",
     "output_type": "error",
     "traceback": [
      "\u001b[0;31m---------------------------------------------------------------------------\u001b[0m",
      "\u001b[0;31mValueError\u001b[0m                                Traceback (most recent call last)",
      "Cell \u001b[0;32mIn[60], line 7\u001b[0m\n\u001b[1;32m      4\u001b[0m background \u001b[38;5;241m=\u001b[39m embeddings[:\u001b[38;5;241m1\u001b[39m]\n\u001b[1;32m      6\u001b[0m \u001b[38;5;66;03m# Create a SHAP DeepExplainer\u001b[39;00m\n\u001b[0;32m----> 7\u001b[0m explainer \u001b[38;5;241m=\u001b[39m \u001b[43mshap\u001b[49m\u001b[38;5;241;43m.\u001b[39;49m\u001b[43mDeepExplainer\u001b[49m\u001b[43m(\u001b[49m\u001b[43mbert_model\u001b[49m\u001b[43m,\u001b[49m\u001b[43m \u001b[49m\u001b[43mbackground\u001b[49m\u001b[43m)\u001b[49m\n\u001b[1;32m      9\u001b[0m \u001b[38;5;66;03m# Explain the predictions of the test set\u001b[39;00m\n\u001b[1;32m     10\u001b[0m shap_values \u001b[38;5;241m=\u001b[39m explainer\u001b[38;5;241m.\u001b[39mshap_values(embeddings)\n",
      "File \u001b[0;32m~/anaconda3/envs/nlp_env/lib/python3.11/site-packages/shap/explainers/_deep/__init__.py:86\u001b[0m, in \u001b[0;36mDeep.__init__\u001b[0;34m(self, model, data, session, learning_phase_flags)\u001b[0m\n\u001b[1;32m     84\u001b[0m     \u001b[38;5;28mself\u001b[39m\u001b[38;5;241m.\u001b[39mexplainer \u001b[38;5;241m=\u001b[39m TFDeep(model, data, session, learning_phase_flags)\n\u001b[1;32m     85\u001b[0m \u001b[38;5;28;01melif\u001b[39;00m framework \u001b[38;5;241m==\u001b[39m \u001b[38;5;124m'\u001b[39m\u001b[38;5;124mpytorch\u001b[39m\u001b[38;5;124m'\u001b[39m:\n\u001b[0;32m---> 86\u001b[0m     \u001b[38;5;28mself\u001b[39m\u001b[38;5;241m.\u001b[39mexplainer \u001b[38;5;241m=\u001b[39m \u001b[43mPyTorchDeep\u001b[49m\u001b[43m(\u001b[49m\u001b[43mmodel\u001b[49m\u001b[43m,\u001b[49m\u001b[43m \u001b[49m\u001b[43mdata\u001b[49m\u001b[43m)\u001b[49m\n\u001b[1;32m     88\u001b[0m \u001b[38;5;28mself\u001b[39m\u001b[38;5;241m.\u001b[39mexpected_value \u001b[38;5;241m=\u001b[39m \u001b[38;5;28mself\u001b[39m\u001b[38;5;241m.\u001b[39mexplainer\u001b[38;5;241m.\u001b[39mexpected_value\n",
      "File \u001b[0;32m~/anaconda3/envs/nlp_env/lib/python3.11/site-packages/shap/explainers/_deep/deep_pytorch.py:57\u001b[0m, in \u001b[0;36mPyTorchDeep.__init__\u001b[0;34m(self, model, data)\u001b[0m\n\u001b[1;32m     55\u001b[0m \u001b[38;5;28mself\u001b[39m\u001b[38;5;241m.\u001b[39mnum_outputs \u001b[38;5;241m=\u001b[39m \u001b[38;5;241m1\u001b[39m\n\u001b[1;32m     56\u001b[0m \u001b[38;5;28;01mwith\u001b[39;00m torch\u001b[38;5;241m.\u001b[39mno_grad():\n\u001b[0;32m---> 57\u001b[0m     outputs \u001b[38;5;241m=\u001b[39m \u001b[43mmodel\u001b[49m\u001b[43m(\u001b[49m\u001b[38;5;241;43m*\u001b[39;49m\u001b[43mdata\u001b[49m\u001b[43m)\u001b[49m\n\u001b[1;32m     59\u001b[0m     \u001b[38;5;66;03m# also get the device everything is running on\u001b[39;00m\n\u001b[1;32m     60\u001b[0m     \u001b[38;5;28mself\u001b[39m\u001b[38;5;241m.\u001b[39mdevice \u001b[38;5;241m=\u001b[39m outputs\u001b[38;5;241m.\u001b[39mdevice\n",
      "File \u001b[0;32m~/anaconda3/envs/nlp_env/lib/python3.11/site-packages/torch/nn/modules/module.py:1553\u001b[0m, in \u001b[0;36mModule._wrapped_call_impl\u001b[0;34m(self, *args, **kwargs)\u001b[0m\n\u001b[1;32m   1551\u001b[0m     \u001b[38;5;28;01mreturn\u001b[39;00m \u001b[38;5;28mself\u001b[39m\u001b[38;5;241m.\u001b[39m_compiled_call_impl(\u001b[38;5;241m*\u001b[39margs, \u001b[38;5;241m*\u001b[39m\u001b[38;5;241m*\u001b[39mkwargs)  \u001b[38;5;66;03m# type: ignore[misc]\u001b[39;00m\n\u001b[1;32m   1552\u001b[0m \u001b[38;5;28;01melse\u001b[39;00m:\n\u001b[0;32m-> 1553\u001b[0m     \u001b[38;5;28;01mreturn\u001b[39;00m \u001b[38;5;28;43mself\u001b[39;49m\u001b[38;5;241;43m.\u001b[39;49m\u001b[43m_call_impl\u001b[49m\u001b[43m(\u001b[49m\u001b[38;5;241;43m*\u001b[39;49m\u001b[43margs\u001b[49m\u001b[43m,\u001b[49m\u001b[43m \u001b[49m\u001b[38;5;241;43m*\u001b[39;49m\u001b[38;5;241;43m*\u001b[39;49m\u001b[43mkwargs\u001b[49m\u001b[43m)\u001b[49m\n",
      "File \u001b[0;32m~/anaconda3/envs/nlp_env/lib/python3.11/site-packages/torch/nn/modules/module.py:1562\u001b[0m, in \u001b[0;36mModule._call_impl\u001b[0;34m(self, *args, **kwargs)\u001b[0m\n\u001b[1;32m   1557\u001b[0m \u001b[38;5;66;03m# If we don't have any hooks, we want to skip the rest of the logic in\u001b[39;00m\n\u001b[1;32m   1558\u001b[0m \u001b[38;5;66;03m# this function, and just call forward.\u001b[39;00m\n\u001b[1;32m   1559\u001b[0m \u001b[38;5;28;01mif\u001b[39;00m \u001b[38;5;129;01mnot\u001b[39;00m (\u001b[38;5;28mself\u001b[39m\u001b[38;5;241m.\u001b[39m_backward_hooks \u001b[38;5;129;01mor\u001b[39;00m \u001b[38;5;28mself\u001b[39m\u001b[38;5;241m.\u001b[39m_backward_pre_hooks \u001b[38;5;129;01mor\u001b[39;00m \u001b[38;5;28mself\u001b[39m\u001b[38;5;241m.\u001b[39m_forward_hooks \u001b[38;5;129;01mor\u001b[39;00m \u001b[38;5;28mself\u001b[39m\u001b[38;5;241m.\u001b[39m_forward_pre_hooks\n\u001b[1;32m   1560\u001b[0m         \u001b[38;5;129;01mor\u001b[39;00m _global_backward_pre_hooks \u001b[38;5;129;01mor\u001b[39;00m _global_backward_hooks\n\u001b[1;32m   1561\u001b[0m         \u001b[38;5;129;01mor\u001b[39;00m _global_forward_hooks \u001b[38;5;129;01mor\u001b[39;00m _global_forward_pre_hooks):\n\u001b[0;32m-> 1562\u001b[0m     \u001b[38;5;28;01mreturn\u001b[39;00m \u001b[43mforward_call\u001b[49m\u001b[43m(\u001b[49m\u001b[38;5;241;43m*\u001b[39;49m\u001b[43margs\u001b[49m\u001b[43m,\u001b[49m\u001b[43m \u001b[49m\u001b[38;5;241;43m*\u001b[39;49m\u001b[38;5;241;43m*\u001b[39;49m\u001b[43mkwargs\u001b[49m\u001b[43m)\u001b[49m\n\u001b[1;32m   1564\u001b[0m \u001b[38;5;28;01mtry\u001b[39;00m:\n\u001b[1;32m   1565\u001b[0m     result \u001b[38;5;241m=\u001b[39m \u001b[38;5;28;01mNone\u001b[39;00m\n",
      "File \u001b[0;32m~/anaconda3/envs/nlp_env/lib/python3.11/site-packages/transformers/models/bert/modeling_bert.py:1695\u001b[0m, in \u001b[0;36mBertForSequenceClassification.forward\u001b[0;34m(self, input_ids, attention_mask, token_type_ids, position_ids, head_mask, inputs_embeds, labels, output_attentions, output_hidden_states, return_dict)\u001b[0m\n\u001b[1;32m   1687\u001b[0m \u001b[38;5;250m\u001b[39m\u001b[38;5;124mr\u001b[39m\u001b[38;5;124;03m\"\"\"\u001b[39;00m\n\u001b[1;32m   1688\u001b[0m \u001b[38;5;124;03mlabels (`torch.LongTensor` of shape `(batch_size,)`, *optional*):\u001b[39;00m\n\u001b[1;32m   1689\u001b[0m \u001b[38;5;124;03m    Labels for computing the sequence classification/regression loss. Indices should be in `[0, ...,\u001b[39;00m\n\u001b[1;32m   1690\u001b[0m \u001b[38;5;124;03m    config.num_labels - 1]`. If `config.num_labels == 1` a regression loss is computed (Mean-Square loss), If\u001b[39;00m\n\u001b[1;32m   1691\u001b[0m \u001b[38;5;124;03m    `config.num_labels > 1` a classification loss is computed (Cross-Entropy).\u001b[39;00m\n\u001b[1;32m   1692\u001b[0m \u001b[38;5;124;03m\"\"\"\u001b[39;00m\n\u001b[1;32m   1693\u001b[0m return_dict \u001b[38;5;241m=\u001b[39m return_dict \u001b[38;5;28;01mif\u001b[39;00m return_dict \u001b[38;5;129;01mis\u001b[39;00m \u001b[38;5;129;01mnot\u001b[39;00m \u001b[38;5;28;01mNone\u001b[39;00m \u001b[38;5;28;01melse\u001b[39;00m \u001b[38;5;28mself\u001b[39m\u001b[38;5;241m.\u001b[39mconfig\u001b[38;5;241m.\u001b[39muse_return_dict\n\u001b[0;32m-> 1695\u001b[0m outputs \u001b[38;5;241m=\u001b[39m \u001b[38;5;28;43mself\u001b[39;49m\u001b[38;5;241;43m.\u001b[39;49m\u001b[43mbert\u001b[49m\u001b[43m(\u001b[49m\n\u001b[1;32m   1696\u001b[0m \u001b[43m    \u001b[49m\u001b[43minput_ids\u001b[49m\u001b[43m,\u001b[49m\n\u001b[1;32m   1697\u001b[0m \u001b[43m    \u001b[49m\u001b[43mattention_mask\u001b[49m\u001b[38;5;241;43m=\u001b[39;49m\u001b[43mattention_mask\u001b[49m\u001b[43m,\u001b[49m\n\u001b[1;32m   1698\u001b[0m \u001b[43m    \u001b[49m\u001b[43mtoken_type_ids\u001b[49m\u001b[38;5;241;43m=\u001b[39;49m\u001b[43mtoken_type_ids\u001b[49m\u001b[43m,\u001b[49m\n\u001b[1;32m   1699\u001b[0m \u001b[43m    \u001b[49m\u001b[43mposition_ids\u001b[49m\u001b[38;5;241;43m=\u001b[39;49m\u001b[43mposition_ids\u001b[49m\u001b[43m,\u001b[49m\n\u001b[1;32m   1700\u001b[0m \u001b[43m    \u001b[49m\u001b[43mhead_mask\u001b[49m\u001b[38;5;241;43m=\u001b[39;49m\u001b[43mhead_mask\u001b[49m\u001b[43m,\u001b[49m\n\u001b[1;32m   1701\u001b[0m \u001b[43m    \u001b[49m\u001b[43minputs_embeds\u001b[49m\u001b[38;5;241;43m=\u001b[39;49m\u001b[43minputs_embeds\u001b[49m\u001b[43m,\u001b[49m\n\u001b[1;32m   1702\u001b[0m \u001b[43m    \u001b[49m\u001b[43moutput_attentions\u001b[49m\u001b[38;5;241;43m=\u001b[39;49m\u001b[43moutput_attentions\u001b[49m\u001b[43m,\u001b[49m\n\u001b[1;32m   1703\u001b[0m \u001b[43m    \u001b[49m\u001b[43moutput_hidden_states\u001b[49m\u001b[38;5;241;43m=\u001b[39;49m\u001b[43moutput_hidden_states\u001b[49m\u001b[43m,\u001b[49m\n\u001b[1;32m   1704\u001b[0m \u001b[43m    \u001b[49m\u001b[43mreturn_dict\u001b[49m\u001b[38;5;241;43m=\u001b[39;49m\u001b[43mreturn_dict\u001b[49m\u001b[43m,\u001b[49m\n\u001b[1;32m   1705\u001b[0m \u001b[43m\u001b[49m\u001b[43m)\u001b[49m\n\u001b[1;32m   1707\u001b[0m pooled_output \u001b[38;5;241m=\u001b[39m outputs[\u001b[38;5;241m1\u001b[39m]\n\u001b[1;32m   1709\u001b[0m pooled_output \u001b[38;5;241m=\u001b[39m \u001b[38;5;28mself\u001b[39m\u001b[38;5;241m.\u001b[39mdropout(pooled_output)\n",
      "File \u001b[0;32m~/anaconda3/envs/nlp_env/lib/python3.11/site-packages/torch/nn/modules/module.py:1553\u001b[0m, in \u001b[0;36mModule._wrapped_call_impl\u001b[0;34m(self, *args, **kwargs)\u001b[0m\n\u001b[1;32m   1551\u001b[0m     \u001b[38;5;28;01mreturn\u001b[39;00m \u001b[38;5;28mself\u001b[39m\u001b[38;5;241m.\u001b[39m_compiled_call_impl(\u001b[38;5;241m*\u001b[39margs, \u001b[38;5;241m*\u001b[39m\u001b[38;5;241m*\u001b[39mkwargs)  \u001b[38;5;66;03m# type: ignore[misc]\u001b[39;00m\n\u001b[1;32m   1552\u001b[0m \u001b[38;5;28;01melse\u001b[39;00m:\n\u001b[0;32m-> 1553\u001b[0m     \u001b[38;5;28;01mreturn\u001b[39;00m \u001b[38;5;28;43mself\u001b[39;49m\u001b[38;5;241;43m.\u001b[39;49m\u001b[43m_call_impl\u001b[49m\u001b[43m(\u001b[49m\u001b[38;5;241;43m*\u001b[39;49m\u001b[43margs\u001b[49m\u001b[43m,\u001b[49m\u001b[43m \u001b[49m\u001b[38;5;241;43m*\u001b[39;49m\u001b[38;5;241;43m*\u001b[39;49m\u001b[43mkwargs\u001b[49m\u001b[43m)\u001b[49m\n",
      "File \u001b[0;32m~/anaconda3/envs/nlp_env/lib/python3.11/site-packages/torch/nn/modules/module.py:1562\u001b[0m, in \u001b[0;36mModule._call_impl\u001b[0;34m(self, *args, **kwargs)\u001b[0m\n\u001b[1;32m   1557\u001b[0m \u001b[38;5;66;03m# If we don't have any hooks, we want to skip the rest of the logic in\u001b[39;00m\n\u001b[1;32m   1558\u001b[0m \u001b[38;5;66;03m# this function, and just call forward.\u001b[39;00m\n\u001b[1;32m   1559\u001b[0m \u001b[38;5;28;01mif\u001b[39;00m \u001b[38;5;129;01mnot\u001b[39;00m (\u001b[38;5;28mself\u001b[39m\u001b[38;5;241m.\u001b[39m_backward_hooks \u001b[38;5;129;01mor\u001b[39;00m \u001b[38;5;28mself\u001b[39m\u001b[38;5;241m.\u001b[39m_backward_pre_hooks \u001b[38;5;129;01mor\u001b[39;00m \u001b[38;5;28mself\u001b[39m\u001b[38;5;241m.\u001b[39m_forward_hooks \u001b[38;5;129;01mor\u001b[39;00m \u001b[38;5;28mself\u001b[39m\u001b[38;5;241m.\u001b[39m_forward_pre_hooks\n\u001b[1;32m   1560\u001b[0m         \u001b[38;5;129;01mor\u001b[39;00m _global_backward_pre_hooks \u001b[38;5;129;01mor\u001b[39;00m _global_backward_hooks\n\u001b[1;32m   1561\u001b[0m         \u001b[38;5;129;01mor\u001b[39;00m _global_forward_hooks \u001b[38;5;129;01mor\u001b[39;00m _global_forward_pre_hooks):\n\u001b[0;32m-> 1562\u001b[0m     \u001b[38;5;28;01mreturn\u001b[39;00m \u001b[43mforward_call\u001b[49m\u001b[43m(\u001b[49m\u001b[38;5;241;43m*\u001b[39;49m\u001b[43margs\u001b[49m\u001b[43m,\u001b[49m\u001b[43m \u001b[49m\u001b[38;5;241;43m*\u001b[39;49m\u001b[38;5;241;43m*\u001b[39;49m\u001b[43mkwargs\u001b[49m\u001b[43m)\u001b[49m\n\u001b[1;32m   1564\u001b[0m \u001b[38;5;28;01mtry\u001b[39;00m:\n\u001b[1;32m   1565\u001b[0m     result \u001b[38;5;241m=\u001b[39m \u001b[38;5;28;01mNone\u001b[39;00m\n",
      "File \u001b[0;32m~/anaconda3/envs/nlp_env/lib/python3.11/site-packages/transformers/models/bert/modeling_bert.py:1063\u001b[0m, in \u001b[0;36mBertModel.forward\u001b[0;34m(self, input_ids, attention_mask, token_type_ids, position_ids, head_mask, inputs_embeds, encoder_hidden_states, encoder_attention_mask, past_key_values, use_cache, output_attentions, output_hidden_states, return_dict)\u001b[0m\n\u001b[1;32m   1060\u001b[0m \u001b[38;5;28;01melse\u001b[39;00m:\n\u001b[1;32m   1061\u001b[0m     \u001b[38;5;28;01mraise\u001b[39;00m \u001b[38;5;167;01mValueError\u001b[39;00m(\u001b[38;5;124m\"\u001b[39m\u001b[38;5;124mYou have to specify either input_ids or inputs_embeds\u001b[39m\u001b[38;5;124m\"\u001b[39m)\n\u001b[0;32m-> 1063\u001b[0m batch_size, seq_length \u001b[38;5;241m=\u001b[39m input_shape\n\u001b[1;32m   1064\u001b[0m device \u001b[38;5;241m=\u001b[39m input_ids\u001b[38;5;241m.\u001b[39mdevice \u001b[38;5;28;01mif\u001b[39;00m input_ids \u001b[38;5;129;01mis\u001b[39;00m \u001b[38;5;129;01mnot\u001b[39;00m \u001b[38;5;28;01mNone\u001b[39;00m \u001b[38;5;28;01melse\u001b[39;00m inputs_embeds\u001b[38;5;241m.\u001b[39mdevice\n\u001b[1;32m   1066\u001b[0m \u001b[38;5;66;03m# past_key_values_length\u001b[39;00m\n",
      "\u001b[0;31mValueError\u001b[0m: too many values to unpack (expected 2)"
     ]
    }
   ],
   "source": [
    "import shap\n",
    "\n",
    "embeddings = get_embeddings(input_ids, bert_model)\n",
    "background = embeddings[:1]\n",
    "\n",
    "# Create a SHAP DeepExplainer\n",
    "explainer = shap.DeepExplainer(bert_model, background)\n",
    "\n",
    "# Explain the predictions of the test set\n",
    "shap_values = explainer.shap_values(embeddings)\n",
    "\n",
    "# Visualize the SHAP values for the first prediction\n",
    "shap.summary_plot(shap_values[0], embeddings[0].cpu().numpy())"
   ]
  }
 ],
 "metadata": {
  "kernelspec": {
   "display_name": "NLP Environment",
   "language": "python",
   "name": "nlp_env"
  },
  "language_info": {
   "codemirror_mode": {
    "name": "ipython",
    "version": 3
   },
   "file_extension": ".py",
   "mimetype": "text/x-python",
   "name": "python",
   "nbconvert_exporter": "python",
   "pygments_lexer": "ipython3",
   "version": "3.11.5"
  }
 },
 "nbformat": 4,
 "nbformat_minor": 5
}
